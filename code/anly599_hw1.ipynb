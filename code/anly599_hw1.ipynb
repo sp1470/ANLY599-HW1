{
 "cells": [
  {
   "cell_type": "code",
   "execution_count": 1,
   "metadata": {},
   "outputs": [],
   "source": [
    "import pandas as pd\n",
    "import seaborn as sns\n",
    "import matplotlib.pyplot as plt\n",
    "import plotly.express as px\n",
    "from plotly.subplots import make_subplots\n",
    "import plotly.graph_objects as go\n",
    "import matplotlib.pyplot as plt\n",
    "from pywaffle import Waffle\n",
    "import chart_studio.plotly as py"
   ]
  },
  {
   "cell_type": "code",
   "execution_count": 2,
   "metadata": {
    "colab": {
     "base_uri": "https://localhost:8080/",
     "height": 423
    },
    "id": "Djqv75oQK2SL",
    "outputId": "4f3e7039-eaa6-48e5-9a3e-994c0f64247f"
   },
   "outputs": [
    {
     "data": {
      "text/html": [
       "<div>\n",
       "<style scoped>\n",
       "    .dataframe tbody tr th:only-of-type {\n",
       "        vertical-align: middle;\n",
       "    }\n",
       "\n",
       "    .dataframe tbody tr th {\n",
       "        vertical-align: top;\n",
       "    }\n",
       "\n",
       "    .dataframe thead th {\n",
       "        text-align: right;\n",
       "    }\n",
       "</style>\n",
       "<table border=\"1\" class=\"dataframe\">\n",
       "  <thead>\n",
       "    <tr style=\"text-align: right;\">\n",
       "      <th></th>\n",
       "      <th>Decision</th>\n",
       "      <th>State</th>\n",
       "      <th>GPA</th>\n",
       "      <th>WorkExp</th>\n",
       "      <th>TestScore</th>\n",
       "      <th>WritingScore</th>\n",
       "      <th>Gender</th>\n",
       "      <th>VolunteerLevel</th>\n",
       "    </tr>\n",
       "  </thead>\n",
       "  <tbody>\n",
       "    <tr>\n",
       "      <th>0</th>\n",
       "      <td>Admit</td>\n",
       "      <td>California</td>\n",
       "      <td>3.90</td>\n",
       "      <td>6.7</td>\n",
       "      <td>962.0</td>\n",
       "      <td>100</td>\n",
       "      <td>1.0</td>\n",
       "      <td>0</td>\n",
       "    </tr>\n",
       "    <tr>\n",
       "      <th>1</th>\n",
       "      <td>Admit</td>\n",
       "      <td>Florida</td>\n",
       "      <td>3.80</td>\n",
       "      <td>1.4</td>\n",
       "      <td>969.0</td>\n",
       "      <td>97</td>\n",
       "      <td>1.0</td>\n",
       "      <td>4</td>\n",
       "    </tr>\n",
       "    <tr>\n",
       "      <th>2</th>\n",
       "      <td>Banana</td>\n",
       "      <td>California</td>\n",
       "      <td>3.80</td>\n",
       "      <td>2.3</td>\n",
       "      <td>970.0</td>\n",
       "      <td>98</td>\n",
       "      <td>0.0</td>\n",
       "      <td>5</td>\n",
       "    </tr>\n",
       "    <tr>\n",
       "      <th>3</th>\n",
       "      <td>Admit</td>\n",
       "      <td>Colorado</td>\n",
       "      <td>3.60</td>\n",
       "      <td>0.9</td>\n",
       "      <td>969.0</td>\n",
       "      <td>97</td>\n",
       "      <td>0.0</td>\n",
       "      <td>2</td>\n",
       "    </tr>\n",
       "    <tr>\n",
       "      <th>4</th>\n",
       "      <td>Admit</td>\n",
       "      <td>Colorado</td>\n",
       "      <td>3.92</td>\n",
       "      <td>1.2</td>\n",
       "      <td>969.0</td>\n",
       "      <td>95</td>\n",
       "      <td>-1.0</td>\n",
       "      <td>3</td>\n",
       "    </tr>\n",
       "    <tr>\n",
       "      <th>...</th>\n",
       "      <td>...</td>\n",
       "      <td>...</td>\n",
       "      <td>...</td>\n",
       "      <td>...</td>\n",
       "      <td>...</td>\n",
       "      <td>...</td>\n",
       "      <td>...</td>\n",
       "      <td>...</td>\n",
       "    </tr>\n",
       "    <tr>\n",
       "      <th>83</th>\n",
       "      <td>Waitlist</td>\n",
       "      <td>Vermont</td>\n",
       "      <td>3.53</td>\n",
       "      <td>3.3</td>\n",
       "      <td>862.0</td>\n",
       "      <td>85</td>\n",
       "      <td>1.0</td>\n",
       "      <td>1</td>\n",
       "    </tr>\n",
       "    <tr>\n",
       "      <th>84</th>\n",
       "      <td>Waitlist</td>\n",
       "      <td>Florida</td>\n",
       "      <td>3.52</td>\n",
       "      <td>0.7</td>\n",
       "      <td>868.0</td>\n",
       "      <td>81</td>\n",
       "      <td>0.0</td>\n",
       "      <td>4</td>\n",
       "    </tr>\n",
       "    <tr>\n",
       "      <th>85</th>\n",
       "      <td>Waitlist</td>\n",
       "      <td>Florida</td>\n",
       "      <td>3.51</td>\n",
       "      <td>3.4</td>\n",
       "      <td>865.0</td>\n",
       "      <td>88</td>\n",
       "      <td>1.0</td>\n",
       "      <td>3</td>\n",
       "    </tr>\n",
       "    <tr>\n",
       "      <th>86</th>\n",
       "      <td>Waitlist</td>\n",
       "      <td>California</td>\n",
       "      <td>3.47</td>\n",
       "      <td>2.2</td>\n",
       "      <td>867.0</td>\n",
       "      <td>77</td>\n",
       "      <td>1.0</td>\n",
       "      <td>5</td>\n",
       "    </tr>\n",
       "    <tr>\n",
       "      <th>87</th>\n",
       "      <td>Waitlist</td>\n",
       "      <td>Florida</td>\n",
       "      <td>3.46</td>\n",
       "      <td>1.9</td>\n",
       "      <td>869.0</td>\n",
       "      <td>89</td>\n",
       "      <td>1.0</td>\n",
       "      <td>0</td>\n",
       "    </tr>\n",
       "  </tbody>\n",
       "</table>\n",
       "<p>88 rows × 8 columns</p>\n",
       "</div>"
      ],
      "text/plain": [
       "    Decision       State   GPA  WorkExp  TestScore  WritingScore  Gender  \\\n",
       "0      Admit  California  3.90      6.7      962.0           100     1.0   \n",
       "1      Admit     Florida  3.80      1.4      969.0            97     1.0   \n",
       "2     Banana  California  3.80      2.3      970.0            98     0.0   \n",
       "3      Admit    Colorado  3.60      0.9      969.0            97     0.0   \n",
       "4      Admit    Colorado  3.92      1.2      969.0            95    -1.0   \n",
       "..       ...         ...   ...      ...        ...           ...     ...   \n",
       "83  Waitlist     Vermont  3.53      3.3      862.0            85     1.0   \n",
       "84  Waitlist     Florida  3.52      0.7      868.0            81     0.0   \n",
       "85  Waitlist     Florida  3.51      3.4      865.0            88     1.0   \n",
       "86  Waitlist  California  3.47      2.2      867.0            77     1.0   \n",
       "87  Waitlist     Florida  3.46      1.9      869.0            89     1.0   \n",
       "\n",
       "    VolunteerLevel  \n",
       "0                0  \n",
       "1                4  \n",
       "2                5  \n",
       "3                2  \n",
       "4                3  \n",
       "..             ...  \n",
       "83               1  \n",
       "84               4  \n",
       "85               3  \n",
       "86               5  \n",
       "87               0  \n",
       "\n",
       "[88 rows x 8 columns]"
      ]
     },
     "execution_count": 2,
     "metadata": {},
     "output_type": "execute_result"
    }
   ],
   "source": [
    "df = pd.read_csv('../data/SummerStudentAdmissions2.csv')\n",
    "df"
   ]
  },
  {
   "cell_type": "markdown",
   "metadata": {
    "id": "m-LSn7MuNQx3"
   },
   "source": [
    "## Check missing values. \n",
    "\n",
    "Decision, GPA, TestScore, Gender have missing values."
   ]
  },
  {
   "cell_type": "code",
   "execution_count": 3,
   "metadata": {
    "colab": {
     "base_uri": "https://localhost:8080/"
    },
    "id": "PY3F4qkyK_6J",
    "outputId": "2dc7816f-21c4-4896-a563-efc83b27fae5"
   },
   "outputs": [
    {
     "data": {
      "text/plain": [
       "Decision          1\n",
       "State             0\n",
       "GPA               1\n",
       "WorkExp           0\n",
       "TestScore         1\n",
       "WritingScore      0\n",
       "Gender            2\n",
       "VolunteerLevel    0\n",
       "dtype: int64"
      ]
     },
     "execution_count": 3,
     "metadata": {},
     "output_type": "execute_result"
    }
   ],
   "source": [
    "df.isnull().sum()"
   ]
  },
  {
   "cell_type": "code",
   "execution_count": 4,
   "metadata": {
    "colab": {
     "base_uri": "https://localhost:8080/"
    },
    "id": "Fyx3MR4FLPBw",
    "outputId": "5e31981e-4b14-4a12-b600-9c82b41039a9"
   },
   "outputs": [
    {
     "data": {
      "text/plain": [
       "Decision                 NaN\n",
       "State             California\n",
       "GPA                      3.8\n",
       "WorkExp                  1.2\n",
       "TestScore                NaN\n",
       "WritingScore              95\n",
       "Gender                   0.0\n",
       "VolunteerLevel             4\n",
       "Name: 5, dtype: object"
      ]
     },
     "execution_count": 4,
     "metadata": {},
     "output_type": "execute_result"
    }
   ],
   "source": [
    "df.iloc[5]"
   ]
  },
  {
   "cell_type": "markdown",
   "metadata": {
    "id": "PzatCFGXNfi7"
   },
   "source": [
    "Fill quantitative columns with the mean and fill qualitative columns with mode."
   ]
  },
  {
   "cell_type": "code",
   "execution_count": 5,
   "metadata": {
    "id": "ffzMMSW-MgI_"
   },
   "outputs": [],
   "source": [
    "df['Decision'].fillna(df['Decision'].mode()[0], inplace=True)\n",
    "df['GPA'].fillna(df['GPA'].mean(), inplace=True)\n",
    "df['TestScore'].fillna(df['TestScore'].mean(), inplace=True)\n",
    "df['Gender'].fillna(df['Gender'].mode()[0], inplace=True)"
   ]
  },
  {
   "cell_type": "code",
   "execution_count": 6,
   "metadata": {
    "colab": {
     "base_uri": "https://localhost:8080/"
    },
    "id": "q2mcRp8NMut4",
    "outputId": "292c31fd-56bf-49f2-8b78-91668f9efd02"
   },
   "outputs": [
    {
     "data": {
      "text/plain": [
       "Decision               Admit\n",
       "State             California\n",
       "GPA                      3.8\n",
       "WorkExp                  1.2\n",
       "TestScore         875.689655\n",
       "WritingScore              95\n",
       "Gender                   0.0\n",
       "VolunteerLevel             4\n",
       "Name: 5, dtype: object"
      ]
     },
     "execution_count": 6,
     "metadata": {},
     "output_type": "execute_result"
    }
   ],
   "source": [
    "df.iloc[5]"
   ]
  },
  {
   "cell_type": "code",
   "execution_count": 7,
   "metadata": {
    "colab": {
     "base_uri": "https://localhost:8080/"
    },
    "id": "1eXn8x6ENOPx",
    "outputId": "42697b79-3fed-4a45-b7fa-aceff814f300"
   },
   "outputs": [
    {
     "data": {
      "text/plain": [
       "Decision          0\n",
       "State             0\n",
       "GPA               0\n",
       "WorkExp           0\n",
       "TestScore         0\n",
       "WritingScore      0\n",
       "Gender            0\n",
       "VolunteerLevel    0\n",
       "dtype: int64"
      ]
     },
     "execution_count": 7,
     "metadata": {},
     "output_type": "execute_result"
    }
   ],
   "source": [
    "df.isnull().sum()"
   ]
  },
  {
   "cell_type": "markdown",
   "metadata": {
    "id": "31QseUnWOauE"
   },
   "source": [
    "## Check error values\n",
    "\n",
    "### Decision"
   ]
  },
  {
   "cell_type": "code",
   "execution_count": 8,
   "metadata": {
    "colab": {
     "base_uri": "https://localhost:8080/"
    },
    "id": "AEbYUfjSNu5c",
    "outputId": "7242c3ed-69b0-4d25-e47f-13e4bf063e8a"
   },
   "outputs": [
    {
     "data": {
      "text/plain": [
       "array(['Admit', 'Banana', 'Decline', 'Waitlist'], dtype=object)"
      ]
     },
     "execution_count": 8,
     "metadata": {},
     "output_type": "execute_result"
    }
   ],
   "source": [
    "df['Decision'].unique()"
   ]
  },
  {
   "cell_type": "markdown",
   "metadata": {
    "id": "7dD9yng9Ou1Z"
   },
   "source": [
    "The applicant who get Banana for the decision has very good GPA, TestScore, Writing Score. Thus, we think it should be admitted."
   ]
  },
  {
   "cell_type": "code",
   "execution_count": 9,
   "metadata": {
    "colab": {
     "base_uri": "https://localhost:8080/",
     "height": 80
    },
    "id": "x7B4FWqvN3OU",
    "outputId": "04725006-a189-47e9-a067-153d85ff4db8"
   },
   "outputs": [
    {
     "data": {
      "text/html": [
       "<div>\n",
       "<style scoped>\n",
       "    .dataframe tbody tr th:only-of-type {\n",
       "        vertical-align: middle;\n",
       "    }\n",
       "\n",
       "    .dataframe tbody tr th {\n",
       "        vertical-align: top;\n",
       "    }\n",
       "\n",
       "    .dataframe thead th {\n",
       "        text-align: right;\n",
       "    }\n",
       "</style>\n",
       "<table border=\"1\" class=\"dataframe\">\n",
       "  <thead>\n",
       "    <tr style=\"text-align: right;\">\n",
       "      <th></th>\n",
       "      <th>Decision</th>\n",
       "      <th>State</th>\n",
       "      <th>GPA</th>\n",
       "      <th>WorkExp</th>\n",
       "      <th>TestScore</th>\n",
       "      <th>WritingScore</th>\n",
       "      <th>Gender</th>\n",
       "      <th>VolunteerLevel</th>\n",
       "    </tr>\n",
       "  </thead>\n",
       "  <tbody>\n",
       "    <tr>\n",
       "      <th>2</th>\n",
       "      <td>Banana</td>\n",
       "      <td>California</td>\n",
       "      <td>3.8</td>\n",
       "      <td>2.3</td>\n",
       "      <td>970.0</td>\n",
       "      <td>98</td>\n",
       "      <td>0.0</td>\n",
       "      <td>5</td>\n",
       "    </tr>\n",
       "  </tbody>\n",
       "</table>\n",
       "</div>"
      ],
      "text/plain": [
       "  Decision       State  GPA  WorkExp  TestScore  WritingScore  Gender  \\\n",
       "2   Banana  California  3.8      2.3      970.0            98     0.0   \n",
       "\n",
       "   VolunteerLevel  \n",
       "2               5  "
      ]
     },
     "execution_count": 9,
     "metadata": {},
     "output_type": "execute_result"
    }
   ],
   "source": [
    "df[df['Decision'] == 'Banana']"
   ]
  },
  {
   "cell_type": "code",
   "execution_count": 10,
   "metadata": {
    "id": "MrocnHVKO-3w"
   },
   "outputs": [],
   "source": [
    "df.replace('Banana', 'Admit', inplace=True)"
   ]
  },
  {
   "cell_type": "code",
   "execution_count": 11,
   "metadata": {
    "colab": {
     "base_uri": "https://localhost:8080/"
    },
    "id": "TYij7u0xPefX",
    "outputId": "842636d4-1294-4d00-ce63-7e90acecb5cf"
   },
   "outputs": [
    {
     "data": {
      "text/plain": [
       "array(['Admit', 'Decline', 'Waitlist'], dtype=object)"
      ]
     },
     "execution_count": 11,
     "metadata": {},
     "output_type": "execute_result"
    }
   ],
   "source": [
    "df['Decision'].unique()"
   ]
  },
  {
   "cell_type": "markdown",
   "metadata": {
    "id": "TFMf4I2ePmF7"
   },
   "source": [
    "### State"
   ]
  },
  {
   "cell_type": "code",
   "execution_count": 12,
   "metadata": {
    "colab": {
     "base_uri": "https://localhost:8080/"
    },
    "id": "Sngpnb4WPCdc",
    "outputId": "a1028509-9b95-4005-f602-5af00c361edb"
   },
   "outputs": [
    {
     "data": {
      "text/plain": [
       "array(['California', 'Florida', 'Colorado', 'Utah', 'Oregon', 'Virginia',\n",
       "       'virginia', 'mississippi', 'New York', 'Alabama', 'Georgia',\n",
       "       'Vermont'], dtype=object)"
      ]
     },
     "execution_count": 12,
     "metadata": {},
     "output_type": "execute_result"
    }
   ],
   "source": [
    "df['State'].unique()"
   ]
  },
  {
   "cell_type": "code",
   "execution_count": 13,
   "metadata": {
    "id": "YOkjc9E4PRgU"
   },
   "outputs": [],
   "source": [
    "df.replace('virginia', 'Virginia', inplace=True)\n",
    "df.replace('mississippi', 'Mississippi', inplace=True)"
   ]
  },
  {
   "cell_type": "code",
   "execution_count": 14,
   "metadata": {
    "colab": {
     "base_uri": "https://localhost:8080/"
    },
    "id": "17i5uLEcPcO6",
    "outputId": "a6b9c42e-9309-42a6-9bbb-a8acea1e78bc"
   },
   "outputs": [
    {
     "data": {
      "text/plain": [
       "array(['California', 'Florida', 'Colorado', 'Utah', 'Oregon', 'Virginia',\n",
       "       'Mississippi', 'New York', 'Alabama', 'Georgia', 'Vermont'],\n",
       "      dtype=object)"
      ]
     },
     "execution_count": 14,
     "metadata": {},
     "output_type": "execute_result"
    }
   ],
   "source": [
    "df['State'].unique()"
   ]
  },
  {
   "cell_type": "markdown",
   "metadata": {
    "id": "fQSh8ucrPpja"
   },
   "source": [
    "### GPA"
   ]
  },
  {
   "cell_type": "code",
   "execution_count": 15,
   "metadata": {
    "colab": {
     "base_uri": "https://localhost:8080/",
     "height": 80
    },
    "id": "yyZHDfovPoYo",
    "outputId": "bbd2cffc-4e7a-4167-abb5-3057c43dc2f3"
   },
   "outputs": [
    {
     "data": {
      "text/html": [
       "<div>\n",
       "<style scoped>\n",
       "    .dataframe tbody tr th:only-of-type {\n",
       "        vertical-align: middle;\n",
       "    }\n",
       "\n",
       "    .dataframe tbody tr th {\n",
       "        vertical-align: top;\n",
       "    }\n",
       "\n",
       "    .dataframe thead th {\n",
       "        text-align: right;\n",
       "    }\n",
       "</style>\n",
       "<table border=\"1\" class=\"dataframe\">\n",
       "  <thead>\n",
       "    <tr style=\"text-align: right;\">\n",
       "      <th></th>\n",
       "      <th>Decision</th>\n",
       "      <th>State</th>\n",
       "      <th>GPA</th>\n",
       "      <th>WorkExp</th>\n",
       "      <th>TestScore</th>\n",
       "      <th>WritingScore</th>\n",
       "      <th>Gender</th>\n",
       "      <th>VolunteerLevel</th>\n",
       "    </tr>\n",
       "  </thead>\n",
       "  <tbody>\n",
       "    <tr>\n",
       "      <th>21</th>\n",
       "      <td>Admit</td>\n",
       "      <td>Colorado</td>\n",
       "      <td>6.0</td>\n",
       "      <td>0.8</td>\n",
       "      <td>969.0</td>\n",
       "      <td>93</td>\n",
       "      <td>1.0</td>\n",
       "      <td>1</td>\n",
       "    </tr>\n",
       "  </tbody>\n",
       "</table>\n",
       "</div>"
      ],
      "text/plain": [
       "   Decision     State  GPA  WorkExp  TestScore  WritingScore  Gender  \\\n",
       "21    Admit  Colorado  6.0      0.8      969.0            93     1.0   \n",
       "\n",
       "    VolunteerLevel  \n",
       "21               1  "
      ]
     },
     "execution_count": 15,
     "metadata": {},
     "output_type": "execute_result"
    }
   ],
   "source": [
    "df[(df['GPA'] < 0) | (df['GPA'] > 4)]"
   ]
  },
  {
   "cell_type": "code",
   "execution_count": 16,
   "metadata": {
    "id": "xwYKblZKQJxm"
   },
   "outputs": [],
   "source": [
    "df.loc[21, 'GPA'] = df['GPA'].mean()"
   ]
  },
  {
   "cell_type": "code",
   "execution_count": 17,
   "metadata": {
    "colab": {
     "base_uri": "https://localhost:8080/"
    },
    "id": "8Dg2ml1DQO5d",
    "outputId": "82159f88-ff50-4f10-edcf-537d9b29f608"
   },
   "outputs": [
    {
     "data": {
      "text/plain": [
       "Decision             Admit\n",
       "State             Colorado\n",
       "GPA                3.54046\n",
       "WorkExp                0.8\n",
       "TestScore            969.0\n",
       "WritingScore            93\n",
       "Gender                 1.0\n",
       "VolunteerLevel           1\n",
       "Name: 21, dtype: object"
      ]
     },
     "execution_count": 17,
     "metadata": {},
     "output_type": "execute_result"
    }
   ],
   "source": [
    "df.loc[21]"
   ]
  },
  {
   "cell_type": "code",
   "execution_count": 18,
   "metadata": {
    "colab": {
     "base_uri": "https://localhost:8080/",
     "height": 49
    },
    "id": "T6-vCBQ2Qk0I",
    "outputId": "769e643d-19d9-49d3-a3fc-1518740be8b5"
   },
   "outputs": [
    {
     "data": {
      "text/html": [
       "<div>\n",
       "<style scoped>\n",
       "    .dataframe tbody tr th:only-of-type {\n",
       "        vertical-align: middle;\n",
       "    }\n",
       "\n",
       "    .dataframe tbody tr th {\n",
       "        vertical-align: top;\n",
       "    }\n",
       "\n",
       "    .dataframe thead th {\n",
       "        text-align: right;\n",
       "    }\n",
       "</style>\n",
       "<table border=\"1\" class=\"dataframe\">\n",
       "  <thead>\n",
       "    <tr style=\"text-align: right;\">\n",
       "      <th></th>\n",
       "      <th>Decision</th>\n",
       "      <th>State</th>\n",
       "      <th>GPA</th>\n",
       "      <th>WorkExp</th>\n",
       "      <th>TestScore</th>\n",
       "      <th>WritingScore</th>\n",
       "      <th>Gender</th>\n",
       "      <th>VolunteerLevel</th>\n",
       "    </tr>\n",
       "  </thead>\n",
       "  <tbody>\n",
       "  </tbody>\n",
       "</table>\n",
       "</div>"
      ],
      "text/plain": [
       "Empty DataFrame\n",
       "Columns: [Decision, State, GPA, WorkExp, TestScore, WritingScore, Gender, VolunteerLevel]\n",
       "Index: []"
      ]
     },
     "execution_count": 18,
     "metadata": {},
     "output_type": "execute_result"
    }
   ],
   "source": [
    "df[(df['GPA'] < 0) | (df['GPA'] > 4)]"
   ]
  },
  {
   "cell_type": "markdown",
   "metadata": {
    "id": "hHhjC5EaQ5Ig"
   },
   "source": [
    "### WorkExp"
   ]
  },
  {
   "cell_type": "code",
   "execution_count": 19,
   "metadata": {
    "colab": {
     "base_uri": "https://localhost:8080/",
     "height": 80
    },
    "id": "7sNujqHBQ-ga",
    "outputId": "362cc950-5b5e-4e0b-99d7-52985880f0c3"
   },
   "outputs": [
    {
     "data": {
      "text/html": [
       "<div>\n",
       "<style scoped>\n",
       "    .dataframe tbody tr th:only-of-type {\n",
       "        vertical-align: middle;\n",
       "    }\n",
       "\n",
       "    .dataframe tbody tr th {\n",
       "        vertical-align: top;\n",
       "    }\n",
       "\n",
       "    .dataframe thead th {\n",
       "        text-align: right;\n",
       "    }\n",
       "</style>\n",
       "<table border=\"1\" class=\"dataframe\">\n",
       "  <thead>\n",
       "    <tr style=\"text-align: right;\">\n",
       "      <th></th>\n",
       "      <th>Decision</th>\n",
       "      <th>State</th>\n",
       "      <th>GPA</th>\n",
       "      <th>WorkExp</th>\n",
       "      <th>TestScore</th>\n",
       "      <th>WritingScore</th>\n",
       "      <th>Gender</th>\n",
       "      <th>VolunteerLevel</th>\n",
       "    </tr>\n",
       "  </thead>\n",
       "  <tbody>\n",
       "    <tr>\n",
       "      <th>68</th>\n",
       "      <td>Waitlist</td>\n",
       "      <td>Georgia</td>\n",
       "      <td>3.56</td>\n",
       "      <td>100.0</td>\n",
       "      <td>866.0</td>\n",
       "      <td>89</td>\n",
       "      <td>0.0</td>\n",
       "      <td>1</td>\n",
       "    </tr>\n",
       "  </tbody>\n",
       "</table>\n",
       "</div>"
      ],
      "text/plain": [
       "    Decision    State   GPA  WorkExp  TestScore  WritingScore  Gender  \\\n",
       "68  Waitlist  Georgia  3.56    100.0      866.0            89     0.0   \n",
       "\n",
       "    VolunteerLevel  \n",
       "68               1  "
      ]
     },
     "execution_count": 19,
     "metadata": {},
     "output_type": "execute_result"
    }
   ],
   "source": [
    "df[(df['WorkExp'] < 0) | (df['WorkExp'] > 10)]"
   ]
  },
  {
   "cell_type": "code",
   "execution_count": 20,
   "metadata": {
    "id": "mMimJ7kIRW53"
   },
   "outputs": [],
   "source": [
    "df.loc[68, 'WorkExp'] = df['WorkExp'].mean()"
   ]
  },
  {
   "cell_type": "code",
   "execution_count": 21,
   "metadata": {
    "colab": {
     "base_uri": "https://localhost:8080/"
    },
    "id": "JopznOnXRdCA",
    "outputId": "7079d2c6-42c7-49e0-a5fb-0fc3ef790990"
   },
   "outputs": [
    {
     "data": {
      "text/plain": [
       "Decision          Waitlist\n",
       "State              Georgia\n",
       "GPA                   3.56\n",
       "WorkExp           3.210227\n",
       "TestScore            866.0\n",
       "WritingScore            89\n",
       "Gender                 0.0\n",
       "VolunteerLevel           1\n",
       "Name: 68, dtype: object"
      ]
     },
     "execution_count": 21,
     "metadata": {},
     "output_type": "execute_result"
    }
   ],
   "source": [
    "df.loc[68]"
   ]
  },
  {
   "cell_type": "markdown",
   "metadata": {
    "id": "cXNDEz2gRkRa"
   },
   "source": [
    "### TestScore"
   ]
  },
  {
   "cell_type": "code",
   "execution_count": 22,
   "metadata": {
    "colab": {
     "base_uri": "https://localhost:8080/",
     "height": 49
    },
    "id": "76nbkiCjRnLj",
    "outputId": "6779e400-339a-47b2-af1d-6c581c1d1c72"
   },
   "outputs": [
    {
     "data": {
      "text/html": [
       "<div>\n",
       "<style scoped>\n",
       "    .dataframe tbody tr th:only-of-type {\n",
       "        vertical-align: middle;\n",
       "    }\n",
       "\n",
       "    .dataframe tbody tr th {\n",
       "        vertical-align: top;\n",
       "    }\n",
       "\n",
       "    .dataframe thead th {\n",
       "        text-align: right;\n",
       "    }\n",
       "</style>\n",
       "<table border=\"1\" class=\"dataframe\">\n",
       "  <thead>\n",
       "    <tr style=\"text-align: right;\">\n",
       "      <th></th>\n",
       "      <th>Decision</th>\n",
       "      <th>State</th>\n",
       "      <th>GPA</th>\n",
       "      <th>WorkExp</th>\n",
       "      <th>TestScore</th>\n",
       "      <th>WritingScore</th>\n",
       "      <th>Gender</th>\n",
       "      <th>VolunteerLevel</th>\n",
       "    </tr>\n",
       "  </thead>\n",
       "  <tbody>\n",
       "  </tbody>\n",
       "</table>\n",
       "</div>"
      ],
      "text/plain": [
       "Empty DataFrame\n",
       "Columns: [Decision, State, GPA, WorkExp, TestScore, WritingScore, Gender, VolunteerLevel]\n",
       "Index: []"
      ]
     },
     "execution_count": 22,
     "metadata": {},
     "output_type": "execute_result"
    }
   ],
   "source": [
    "df[(df['TestScore'] < 0) | (df['TestScore'] > 1000)]"
   ]
  },
  {
   "cell_type": "markdown",
   "metadata": {
    "id": "B61TxQLuR2aY"
   },
   "source": [
    "### WritingScore"
   ]
  },
  {
   "cell_type": "code",
   "execution_count": 23,
   "metadata": {
    "colab": {
     "base_uri": "https://localhost:8080/",
     "height": 49
    },
    "id": "RBwGFwaWRu9j",
    "outputId": "2e388d1b-8818-4372-b6a3-5bdf18f268e3"
   },
   "outputs": [
    {
     "data": {
      "text/html": [
       "<div>\n",
       "<style scoped>\n",
       "    .dataframe tbody tr th:only-of-type {\n",
       "        vertical-align: middle;\n",
       "    }\n",
       "\n",
       "    .dataframe tbody tr th {\n",
       "        vertical-align: top;\n",
       "    }\n",
       "\n",
       "    .dataframe thead th {\n",
       "        text-align: right;\n",
       "    }\n",
       "</style>\n",
       "<table border=\"1\" class=\"dataframe\">\n",
       "  <thead>\n",
       "    <tr style=\"text-align: right;\">\n",
       "      <th></th>\n",
       "      <th>Decision</th>\n",
       "      <th>State</th>\n",
       "      <th>GPA</th>\n",
       "      <th>WorkExp</th>\n",
       "      <th>TestScore</th>\n",
       "      <th>WritingScore</th>\n",
       "      <th>Gender</th>\n",
       "      <th>VolunteerLevel</th>\n",
       "    </tr>\n",
       "  </thead>\n",
       "  <tbody>\n",
       "  </tbody>\n",
       "</table>\n",
       "</div>"
      ],
      "text/plain": [
       "Empty DataFrame\n",
       "Columns: [Decision, State, GPA, WorkExp, TestScore, WritingScore, Gender, VolunteerLevel]\n",
       "Index: []"
      ]
     },
     "execution_count": 23,
     "metadata": {},
     "output_type": "execute_result"
    }
   ],
   "source": [
    "df[(df['WritingScore'] < 0) | (df['WritingScore'] > 100)]"
   ]
  },
  {
   "cell_type": "markdown",
   "metadata": {
    "id": "AmJSto3vR-lG"
   },
   "source": [
    "### Gender"
   ]
  },
  {
   "cell_type": "code",
   "execution_count": 24,
   "metadata": {
    "colab": {
     "base_uri": "https://localhost:8080/"
    },
    "id": "NUMScqjcSA5I",
    "outputId": "e587d4b1-e029-4859-d8c5-b86dfa525d0d"
   },
   "outputs": [
    {
     "data": {
      "text/plain": [
       "array([ 1.,  0., -1.])"
      ]
     },
     "execution_count": 24,
     "metadata": {},
     "output_type": "execute_result"
    }
   ],
   "source": [
    "df['Gender'].unique()"
   ]
  },
  {
   "cell_type": "code",
   "execution_count": 25,
   "metadata": {
    "colab": {
     "base_uri": "https://localhost:8080/",
     "height": 80
    },
    "id": "wSbJ9pFgSGni",
    "outputId": "11c047d9-5a24-44bb-a6f5-945a7463b6ae"
   },
   "outputs": [
    {
     "data": {
      "text/html": [
       "<div>\n",
       "<style scoped>\n",
       "    .dataframe tbody tr th:only-of-type {\n",
       "        vertical-align: middle;\n",
       "    }\n",
       "\n",
       "    .dataframe tbody tr th {\n",
       "        vertical-align: top;\n",
       "    }\n",
       "\n",
       "    .dataframe thead th {\n",
       "        text-align: right;\n",
       "    }\n",
       "</style>\n",
       "<table border=\"1\" class=\"dataframe\">\n",
       "  <thead>\n",
       "    <tr style=\"text-align: right;\">\n",
       "      <th></th>\n",
       "      <th>Decision</th>\n",
       "      <th>State</th>\n",
       "      <th>GPA</th>\n",
       "      <th>WorkExp</th>\n",
       "      <th>TestScore</th>\n",
       "      <th>WritingScore</th>\n",
       "      <th>Gender</th>\n",
       "      <th>VolunteerLevel</th>\n",
       "    </tr>\n",
       "  </thead>\n",
       "  <tbody>\n",
       "    <tr>\n",
       "      <th>4</th>\n",
       "      <td>Admit</td>\n",
       "      <td>Colorado</td>\n",
       "      <td>3.92</td>\n",
       "      <td>1.2</td>\n",
       "      <td>969.0</td>\n",
       "      <td>95</td>\n",
       "      <td>-1.0</td>\n",
       "      <td>3</td>\n",
       "    </tr>\n",
       "  </tbody>\n",
       "</table>\n",
       "</div>"
      ],
      "text/plain": [
       "  Decision     State   GPA  WorkExp  TestScore  WritingScore  Gender  \\\n",
       "4    Admit  Colorado  3.92      1.2      969.0            95    -1.0   \n",
       "\n",
       "   VolunteerLevel  \n",
       "4               3  "
      ]
     },
     "execution_count": 25,
     "metadata": {},
     "output_type": "execute_result"
    }
   ],
   "source": [
    "df[df['Gender'] == -1]"
   ]
  },
  {
   "cell_type": "code",
   "execution_count": 26,
   "metadata": {
    "id": "HycNqT1-SLCq"
   },
   "outputs": [],
   "source": [
    "df.loc[4, 'Gender'] = df['Gender'].mode()[0]"
   ]
  },
  {
   "cell_type": "code",
   "execution_count": 27,
   "metadata": {
    "colab": {
     "base_uri": "https://localhost:8080/"
    },
    "id": "qcDrvJa4STYD",
    "outputId": "769c380a-2676-4f15-824e-4f8048178ef3"
   },
   "outputs": [
    {
     "data": {
      "text/plain": [
       "array([1., 0.])"
      ]
     },
     "execution_count": 27,
     "metadata": {},
     "output_type": "execute_result"
    }
   ],
   "source": [
    "df['Gender'].unique()"
   ]
  },
  {
   "cell_type": "markdown",
   "metadata": {
    "id": "pdfd5vVnSU1G"
   },
   "source": [
    "### VolunteerLevel"
   ]
  },
  {
   "cell_type": "code",
   "execution_count": 28,
   "metadata": {
    "colab": {
     "base_uri": "https://localhost:8080/"
    },
    "id": "loZ_awsHSYD-",
    "outputId": "7e322f07-b378-4bc1-f532-23a77c2e48a8"
   },
   "outputs": [
    {
     "data": {
      "text/plain": [
       "array([0, 4, 5, 2, 3, 1], dtype=int64)"
      ]
     },
     "execution_count": 28,
     "metadata": {},
     "output_type": "execute_result"
    }
   ],
   "source": [
    "df['VolunteerLevel'].unique()"
   ]
  },
  {
   "cell_type": "code",
   "execution_count": 29,
   "metadata": {
    "colab": {
     "base_uri": "https://localhost:8080/",
     "height": 206
    },
    "id": "rggbmcD6N1O4",
    "outputId": "b3e63e4e-8f20-4376-95f9-902ab6ffea20"
   },
   "outputs": [
    {
     "data": {
      "text/html": [
       "<div>\n",
       "<style scoped>\n",
       "    .dataframe tbody tr th:only-of-type {\n",
       "        vertical-align: middle;\n",
       "    }\n",
       "\n",
       "    .dataframe tbody tr th {\n",
       "        vertical-align: top;\n",
       "    }\n",
       "\n",
       "    .dataframe thead th {\n",
       "        text-align: right;\n",
       "    }\n",
       "</style>\n",
       "<table border=\"1\" class=\"dataframe\">\n",
       "  <thead>\n",
       "    <tr style=\"text-align: right;\">\n",
       "      <th></th>\n",
       "      <th>Decision</th>\n",
       "      <th>State</th>\n",
       "      <th>GPA</th>\n",
       "      <th>WorkExp</th>\n",
       "      <th>TestScore</th>\n",
       "      <th>WritingScore</th>\n",
       "      <th>Gender</th>\n",
       "      <th>VolunteerLevel</th>\n",
       "    </tr>\n",
       "  </thead>\n",
       "  <tbody>\n",
       "    <tr>\n",
       "      <th>0</th>\n",
       "      <td>Admit</td>\n",
       "      <td>California</td>\n",
       "      <td>3.90</td>\n",
       "      <td>6.7</td>\n",
       "      <td>962.0</td>\n",
       "      <td>100</td>\n",
       "      <td>1.0</td>\n",
       "      <td>0</td>\n",
       "    </tr>\n",
       "    <tr>\n",
       "      <th>1</th>\n",
       "      <td>Admit</td>\n",
       "      <td>Florida</td>\n",
       "      <td>3.80</td>\n",
       "      <td>1.4</td>\n",
       "      <td>969.0</td>\n",
       "      <td>97</td>\n",
       "      <td>1.0</td>\n",
       "      <td>4</td>\n",
       "    </tr>\n",
       "    <tr>\n",
       "      <th>2</th>\n",
       "      <td>Admit</td>\n",
       "      <td>California</td>\n",
       "      <td>3.80</td>\n",
       "      <td>2.3</td>\n",
       "      <td>970.0</td>\n",
       "      <td>98</td>\n",
       "      <td>0.0</td>\n",
       "      <td>5</td>\n",
       "    </tr>\n",
       "    <tr>\n",
       "      <th>3</th>\n",
       "      <td>Admit</td>\n",
       "      <td>Colorado</td>\n",
       "      <td>3.60</td>\n",
       "      <td>0.9</td>\n",
       "      <td>969.0</td>\n",
       "      <td>97</td>\n",
       "      <td>0.0</td>\n",
       "      <td>2</td>\n",
       "    </tr>\n",
       "    <tr>\n",
       "      <th>4</th>\n",
       "      <td>Admit</td>\n",
       "      <td>Colorado</td>\n",
       "      <td>3.92</td>\n",
       "      <td>1.2</td>\n",
       "      <td>969.0</td>\n",
       "      <td>95</td>\n",
       "      <td>1.0</td>\n",
       "      <td>3</td>\n",
       "    </tr>\n",
       "  </tbody>\n",
       "</table>\n",
       "</div>"
      ],
      "text/plain": [
       "  Decision       State   GPA  WorkExp  TestScore  WritingScore  Gender  \\\n",
       "0    Admit  California  3.90      6.7      962.0           100     1.0   \n",
       "1    Admit     Florida  3.80      1.4      969.0            97     1.0   \n",
       "2    Admit  California  3.80      2.3      970.0            98     0.0   \n",
       "3    Admit    Colorado  3.60      0.9      969.0            97     0.0   \n",
       "4    Admit    Colorado  3.92      1.2      969.0            95     1.0   \n",
       "\n",
       "   VolunteerLevel  \n",
       "0               0  \n",
       "1               4  \n",
       "2               5  \n",
       "3               2  \n",
       "4               3  "
      ]
     },
     "execution_count": 29,
     "metadata": {},
     "output_type": "execute_result"
    }
   ],
   "source": [
    "df.head()"
   ]
  },
  {
   "cell_type": "code",
   "execution_count": 30,
   "metadata": {
    "colab": {
     "base_uri": "https://localhost:8080/"
    },
    "id": "2_Zi-jC6VKNK",
    "outputId": "cf05f842-bf62-408d-df33-950c1e90744d"
   },
   "outputs": [
    {
     "data": {
      "text/plain": [
       "Decision  VolunteerLevel\n",
       "Admit     2                 0.200000\n",
       "          0                 0.171429\n",
       "          1                 0.171429\n",
       "          4                 0.171429\n",
       "          3                 0.142857\n",
       "          5                 0.142857\n",
       "Decline   1                 0.250000\n",
       "          4                 0.250000\n",
       "          2                 0.142857\n",
       "          5                 0.142857\n",
       "          0                 0.107143\n",
       "          3                 0.107143\n",
       "Waitlist  1                 0.200000\n",
       "          3                 0.200000\n",
       "          2                 0.160000\n",
       "          4                 0.160000\n",
       "          5                 0.160000\n",
       "          0                 0.120000\n",
       "Name: VolunteerLevel, dtype: float64"
      ]
     },
     "execution_count": 30,
     "metadata": {},
     "output_type": "execute_result"
    }
   ],
   "source": [
    "df.groupby('Decision')['VolunteerLevel'].value_counts(normalize=True)"
   ]
  },
  {
   "cell_type": "code",
   "execution_count": 31,
   "metadata": {
    "colab": {
     "base_uri": "https://localhost:8080/",
     "height": 614
    },
    "id": "N6dIp-SrY-Dh",
    "outputId": "96bc7292-7a92-499f-e4c3-5972887f49cb"
   },
   "outputs": [
    {
     "data": {
      "text/html": [
       "<div>\n",
       "<style scoped>\n",
       "    .dataframe tbody tr th:only-of-type {\n",
       "        vertical-align: middle;\n",
       "    }\n",
       "\n",
       "    .dataframe tbody tr th {\n",
       "        vertical-align: top;\n",
       "    }\n",
       "\n",
       "    .dataframe thead th {\n",
       "        text-align: right;\n",
       "    }\n",
       "</style>\n",
       "<table border=\"1\" class=\"dataframe\">\n",
       "  <thead>\n",
       "    <tr style=\"text-align: right;\">\n",
       "      <th></th>\n",
       "      <th>Decision</th>\n",
       "      <th>Volunteer Level</th>\n",
       "      <th>Count</th>\n",
       "    </tr>\n",
       "  </thead>\n",
       "  <tbody>\n",
       "    <tr>\n",
       "      <th>1</th>\n",
       "      <td>Admit</td>\n",
       "      <td>0</td>\n",
       "      <td>6</td>\n",
       "    </tr>\n",
       "    <tr>\n",
       "      <th>2</th>\n",
       "      <td>Admit</td>\n",
       "      <td>1</td>\n",
       "      <td>6</td>\n",
       "    </tr>\n",
       "    <tr>\n",
       "      <th>0</th>\n",
       "      <td>Admit</td>\n",
       "      <td>2</td>\n",
       "      <td>7</td>\n",
       "    </tr>\n",
       "    <tr>\n",
       "      <th>4</th>\n",
       "      <td>Admit</td>\n",
       "      <td>3</td>\n",
       "      <td>5</td>\n",
       "    </tr>\n",
       "    <tr>\n",
       "      <th>3</th>\n",
       "      <td>Admit</td>\n",
       "      <td>4</td>\n",
       "      <td>6</td>\n",
       "    </tr>\n",
       "    <tr>\n",
       "      <th>5</th>\n",
       "      <td>Admit</td>\n",
       "      <td>5</td>\n",
       "      <td>5</td>\n",
       "    </tr>\n",
       "    <tr>\n",
       "      <th>10</th>\n",
       "      <td>Decline</td>\n",
       "      <td>0</td>\n",
       "      <td>3</td>\n",
       "    </tr>\n",
       "    <tr>\n",
       "      <th>6</th>\n",
       "      <td>Decline</td>\n",
       "      <td>1</td>\n",
       "      <td>7</td>\n",
       "    </tr>\n",
       "    <tr>\n",
       "      <th>8</th>\n",
       "      <td>Decline</td>\n",
       "      <td>2</td>\n",
       "      <td>4</td>\n",
       "    </tr>\n",
       "    <tr>\n",
       "      <th>11</th>\n",
       "      <td>Decline</td>\n",
       "      <td>3</td>\n",
       "      <td>3</td>\n",
       "    </tr>\n",
       "    <tr>\n",
       "      <th>7</th>\n",
       "      <td>Decline</td>\n",
       "      <td>4</td>\n",
       "      <td>7</td>\n",
       "    </tr>\n",
       "    <tr>\n",
       "      <th>9</th>\n",
       "      <td>Decline</td>\n",
       "      <td>5</td>\n",
       "      <td>4</td>\n",
       "    </tr>\n",
       "    <tr>\n",
       "      <th>17</th>\n",
       "      <td>Waitlist</td>\n",
       "      <td>0</td>\n",
       "      <td>3</td>\n",
       "    </tr>\n",
       "    <tr>\n",
       "      <th>12</th>\n",
       "      <td>Waitlist</td>\n",
       "      <td>1</td>\n",
       "      <td>5</td>\n",
       "    </tr>\n",
       "    <tr>\n",
       "      <th>14</th>\n",
       "      <td>Waitlist</td>\n",
       "      <td>2</td>\n",
       "      <td>4</td>\n",
       "    </tr>\n",
       "    <tr>\n",
       "      <th>13</th>\n",
       "      <td>Waitlist</td>\n",
       "      <td>3</td>\n",
       "      <td>5</td>\n",
       "    </tr>\n",
       "    <tr>\n",
       "      <th>15</th>\n",
       "      <td>Waitlist</td>\n",
       "      <td>4</td>\n",
       "      <td>4</td>\n",
       "    </tr>\n",
       "    <tr>\n",
       "      <th>16</th>\n",
       "      <td>Waitlist</td>\n",
       "      <td>5</td>\n",
       "      <td>4</td>\n",
       "    </tr>\n",
       "  </tbody>\n",
       "</table>\n",
       "</div>"
      ],
      "text/plain": [
       "    Decision  Volunteer Level  Count\n",
       "1      Admit                0      6\n",
       "2      Admit                1      6\n",
       "0      Admit                2      7\n",
       "4      Admit                3      5\n",
       "3      Admit                4      6\n",
       "5      Admit                5      5\n",
       "10   Decline                0      3\n",
       "6    Decline                1      7\n",
       "8    Decline                2      4\n",
       "11   Decline                3      3\n",
       "7    Decline                4      7\n",
       "9    Decline                5      4\n",
       "17  Waitlist                0      3\n",
       "12  Waitlist                1      5\n",
       "14  Waitlist                2      4\n",
       "13  Waitlist                3      5\n",
       "15  Waitlist                4      4\n",
       "16  Waitlist                5      4"
      ]
     },
     "execution_count": 31,
     "metadata": {},
     "output_type": "execute_result"
    }
   ],
   "source": [
    "df_volunteer = df.groupby(['Decision'])['VolunteerLevel'].value_counts()\n",
    "df_volunteer = df_volunteer.rename('Count').reset_index().sort_values(by=['Decision', 'VolunteerLevel'])\n",
    "df_volunteer.rename(columns={'VolunteerLevel': 'Volunteer Level'}, inplace=True)\n",
    "df_volunteer"
   ]
  },
  {
   "cell_type": "code",
   "execution_count": 32,
   "metadata": {
    "colab": {
     "base_uri": "https://localhost:8080/",
     "height": 542
    },
    "id": "Iy7p1khsbirX",
    "outputId": "13b663ed-a85f-4f10-8c61-faac5b13e319"
   },
   "outputs": [
    {
     "data": {
      "text/html": [
       "\n",
       "        <iframe\n",
       "            width=\"100%\"\n",
       "            height=\"525px\"\n",
       "            src=\"https://plotly.com/~AlphaA/114.embed\"\n",
       "            frameborder=\"0\"\n",
       "            allowfullscreen\n",
       "            \n",
       "        ></iframe>\n",
       "        "
      ],
      "text/plain": [
       "<IPython.lib.display.IFrame at 0x2c0a85c7a90>"
      ]
     },
     "execution_count": 32,
     "metadata": {},
     "output_type": "execute_result"
    }
   ],
   "source": [
    "fig1 = px.bar(df_volunteer, x='Volunteer Level', y='Count', color='Decision', barmode='group', text='Count', title='Number of Volunteer Levels by Admission Decision')\n",
    "fig1.update_layout(title_font_family=\"Times New Roman\", title_font_size=24, legend_font_size=14, title_x=0.5)\n",
    "#fig1.write_html(\"../plots/volunteer_level.html\")\n",
    "py.iplot(fig1)"
   ]
  },
  {
   "cell_type": "code",
   "execution_count": 33,
   "metadata": {
    "colab": {
     "base_uri": "https://localhost:8080/",
     "height": 542
    },
    "id": "EsQuCTxpgq7R",
    "outputId": "56b0bff8-132c-4a7f-f8a9-1ac0bbaa96fe"
   },
   "outputs": [
    {
     "data": {
      "text/html": [
       "\n",
       "        <iframe\n",
       "            width=\"100%\"\n",
       "            height=\"525px\"\n",
       "            src=\"https://plotly.com/~AlphaA/116.embed\"\n",
       "            frameborder=\"0\"\n",
       "            allowfullscreen\n",
       "            \n",
       "        ></iframe>\n",
       "        "
      ],
      "text/plain": [
       "<IPython.lib.display.IFrame at 0x2c0a8f4a1c0>"
      ]
     },
     "execution_count": 33,
     "metadata": {},
     "output_type": "execute_result"
    }
   ],
   "source": [
    "fig = make_subplots(rows=1, cols=2,specs=[[{\"type\":\"box\"}, {\"type\":\"box\"}],],\n",
    "                    column_widths=[0.5, 0.5],\n",
    "                    vertical_spacing = 0.13,\n",
    "                    subplot_titles=(\"Distribution of GPA by Admission\", \"Distribution of Test Score by Admission\"))\n",
    "\n",
    "fig.add_trace(go.Box(y=df[df[\"Decision\"] == \"Admit\"][\"GPA\"], name=\"Admit\"), row=1, col=1)\n",
    "fig.add_trace(go.Box(y=df[df[\"Decision\"] == \"Waitlist\"][\"GPA\"], name=\"Waitlist\"), row=1, col=1)\n",
    "fig.add_trace(go.Box(y=df[df[\"Decision\"] == \"Decline\"][\"GPA\"], name=\"Decline\"), row=1, col=1)\n",
    "fig.add_trace(go.Box(y=df[df[\"Decision\"] == \"Admit\"][\"TestScore\"], name=\"Admit\"), row=1, col=2)\n",
    "fig.add_trace(go.Box(y=df[df[\"Decision\"] == \"Waitlist\"][\"TestScore\"], name=\"Waitlist\"), row=1, col=2)\n",
    "fig.add_trace(go.Box(y=df[df[\"Decision\"] == \"Decline\"][\"TestScore\"], name=\"Decline\"), row=1, col=2)\n",
    "\n",
    "fig.update_xaxes(title_text=\"Admission Decision\", row=1, col=1)\n",
    "fig.update_yaxes(title_text=\"GPA\", row=1, col=1)\n",
    "fig.update_xaxes(title_text=\"Admission Decision\", row=1, col=2)\n",
    "fig.update_yaxes(title_text=\"Test Score\", row=1, col=2)\n",
    "fig.update_layout(title=\"Distribution of GPA and Test Score by Admission\", title_x=0.5, font_size=15)\n",
    "fig.update_annotations(font=dict(size=18))\n",
    "#fig.write_html(\"../plots/gpa_test.html\")\n",
    "py.iplot(fig)"
   ]
  },
  {
   "cell_type": "code",
   "execution_count": 34,
   "metadata": {
    "colab": {
     "base_uri": "https://localhost:8080/",
     "height": 542
    },
    "id": "H9S2YMVQdb8m",
    "outputId": "a05a431f-67c5-4761-d8a3-747021723922"
   },
   "outputs": [
    {
     "data": {
      "text/html": [
       "\n",
       "        <iframe\n",
       "            width=\"100%\"\n",
       "            height=\"525px\"\n",
       "            src=\"https://plotly.com/~AlphaA/118.embed\"\n",
       "            frameborder=\"0\"\n",
       "            allowfullscreen\n",
       "            \n",
       "        ></iframe>\n",
       "        "
      ],
      "text/plain": [
       "<IPython.lib.display.IFrame at 0x2c0a8efbd30>"
      ]
     },
     "execution_count": 34,
     "metadata": {},
     "output_type": "execute_result"
    }
   ],
   "source": [
    "fig_writing = go.Figure()\n",
    "fig_writing.add_trace(go.Box(y=df[df[\"Decision\"] == \"Admit\"][\"WritingScore\"], name=\"Admit\"))\n",
    "fig_writing.add_trace(go.Box(y=df[df[\"Decision\"] == \"Waitlist\"][\"WritingScore\"], name=\"Waitlist\"))\n",
    "fig_writing.add_trace(go.Box(y=df[df[\"Decision\"] == \"Decline\"][\"WritingScore\"], name=\"Decline\"))\n",
    "fig_writing.update_xaxes(title_text=\"Admission Decision\")\n",
    "fig_writing.update_yaxes(title_text=\"Writing Score\")\n",
    "fig_writing.update_layout(title=\"Distribution of Writing Score by Admission\", title_x=0.5, font_size=15)\n",
    "#fig_writing.write_html(\"../plots/writing.html\")\n",
    "py.iplot(fig_writing)"
   ]
  },
  {
   "cell_type": "markdown",
   "metadata": {
    "id": "TP8hMm4OmaQm"
   },
   "source": [
    "How state & Work Expereince influence admission decision"
   ]
  },
  {
   "cell_type": "code",
   "execution_count": 35,
   "metadata": {
    "colab": {
     "base_uri": "https://localhost:8080/"
    },
    "id": "4jsNDuocnkqY",
    "outputId": "c0d5f247-0148-4416-8835-75643169307c"
   },
   "outputs": [
    {
     "data": {
      "text/plain": [
       "0     California\n",
       "1        Florida\n",
       "2     California\n",
       "3       Colorado\n",
       "4       Colorado\n",
       "         ...    \n",
       "83       Vermont\n",
       "84       Florida\n",
       "85       Florida\n",
       "86    California\n",
       "87       Florida\n",
       "Name: State, Length: 88, dtype: object"
      ]
     },
     "execution_count": 35,
     "metadata": {},
     "output_type": "execute_result"
    }
   ],
   "source": [
    "df['State']"
   ]
  },
  {
   "cell_type": "code",
   "execution_count": 36,
   "metadata": {
    "colab": {
     "base_uri": "https://localhost:8080/"
    },
    "id": "yp9TDmBUl0VZ",
    "outputId": "57f301c5-bf58-4822-a6bd-36a699b9aabc"
   },
   "outputs": [
    {
     "data": {
      "text/plain": [
       "0        Admit\n",
       "1        Admit\n",
       "2        Admit\n",
       "3        Admit\n",
       "4        Admit\n",
       "        ...   \n",
       "83    Waitlist\n",
       "84    Waitlist\n",
       "85    Waitlist\n",
       "86    Waitlist\n",
       "87    Waitlist\n",
       "Name: Decision, Length: 88, dtype: object"
      ]
     },
     "execution_count": 36,
     "metadata": {},
     "output_type": "execute_result"
    }
   ],
   "source": [
    "df['Decision']"
   ]
  },
  {
   "cell_type": "code",
   "execution_count": 37,
   "metadata": {
    "colab": {
     "base_uri": "https://localhost:8080/",
     "height": 645
    },
    "id": "fxavGCt-nluq",
    "outputId": "56804cb6-52a7-4a18-d22b-111399615fcc"
   },
   "outputs": [
    {
     "data": {
      "text/html": [
       "<div>\n",
       "<style scoped>\n",
       "    .dataframe tbody tr th:only-of-type {\n",
       "        vertical-align: middle;\n",
       "    }\n",
       "\n",
       "    .dataframe tbody tr th {\n",
       "        vertical-align: top;\n",
       "    }\n",
       "\n",
       "    .dataframe thead th {\n",
       "        text-align: right;\n",
       "    }\n",
       "</style>\n",
       "<table border=\"1\" class=\"dataframe\">\n",
       "  <thead>\n",
       "    <tr style=\"text-align: right;\">\n",
       "      <th></th>\n",
       "      <th>State</th>\n",
       "      <th>Decision</th>\n",
       "      <th>Percentage</th>\n",
       "    </tr>\n",
       "  </thead>\n",
       "  <tbody>\n",
       "    <tr>\n",
       "      <th>0</th>\n",
       "      <td>Alabama</td>\n",
       "      <td>Waitlist</td>\n",
       "      <td>1.00</td>\n",
       "    </tr>\n",
       "    <tr>\n",
       "      <th>1</th>\n",
       "      <td>California</td>\n",
       "      <td>Admit</td>\n",
       "      <td>0.75</td>\n",
       "    </tr>\n",
       "    <tr>\n",
       "      <th>2</th>\n",
       "      <td>California</td>\n",
       "      <td>Waitlist</td>\n",
       "      <td>0.19</td>\n",
       "    </tr>\n",
       "    <tr>\n",
       "      <th>3</th>\n",
       "      <td>California</td>\n",
       "      <td>Decline</td>\n",
       "      <td>0.06</td>\n",
       "    </tr>\n",
       "    <tr>\n",
       "      <th>4</th>\n",
       "      <td>Colorado</td>\n",
       "      <td>Admit</td>\n",
       "      <td>0.50</td>\n",
       "    </tr>\n",
       "    <tr>\n",
       "      <th>5</th>\n",
       "      <td>Colorado</td>\n",
       "      <td>Decline</td>\n",
       "      <td>0.30</td>\n",
       "    </tr>\n",
       "    <tr>\n",
       "      <th>6</th>\n",
       "      <td>Colorado</td>\n",
       "      <td>Waitlist</td>\n",
       "      <td>0.20</td>\n",
       "    </tr>\n",
       "    <tr>\n",
       "      <th>7</th>\n",
       "      <td>Florida</td>\n",
       "      <td>Decline</td>\n",
       "      <td>0.36</td>\n",
       "    </tr>\n",
       "    <tr>\n",
       "      <th>8</th>\n",
       "      <td>Florida</td>\n",
       "      <td>Admit</td>\n",
       "      <td>0.33</td>\n",
       "    </tr>\n",
       "    <tr>\n",
       "      <th>9</th>\n",
       "      <td>Florida</td>\n",
       "      <td>Waitlist</td>\n",
       "      <td>0.31</td>\n",
       "    </tr>\n",
       "    <tr>\n",
       "      <th>10</th>\n",
       "      <td>Georgia</td>\n",
       "      <td>Waitlist</td>\n",
       "      <td>1.00</td>\n",
       "    </tr>\n",
       "    <tr>\n",
       "      <th>11</th>\n",
       "      <td>Mississippi</td>\n",
       "      <td>Decline</td>\n",
       "      <td>1.00</td>\n",
       "    </tr>\n",
       "    <tr>\n",
       "      <th>12</th>\n",
       "      <td>New York</td>\n",
       "      <td>Waitlist</td>\n",
       "      <td>1.00</td>\n",
       "    </tr>\n",
       "    <tr>\n",
       "      <th>13</th>\n",
       "      <td>Oregon</td>\n",
       "      <td>Decline</td>\n",
       "      <td>1.00</td>\n",
       "    </tr>\n",
       "    <tr>\n",
       "      <th>14</th>\n",
       "      <td>Utah</td>\n",
       "      <td>Waitlist</td>\n",
       "      <td>0.50</td>\n",
       "    </tr>\n",
       "    <tr>\n",
       "      <th>15</th>\n",
       "      <td>Utah</td>\n",
       "      <td>Decline</td>\n",
       "      <td>0.33</td>\n",
       "    </tr>\n",
       "    <tr>\n",
       "      <th>16</th>\n",
       "      <td>Utah</td>\n",
       "      <td>Admit</td>\n",
       "      <td>0.17</td>\n",
       "    </tr>\n",
       "    <tr>\n",
       "      <th>17</th>\n",
       "      <td>Vermont</td>\n",
       "      <td>Waitlist</td>\n",
       "      <td>1.00</td>\n",
       "    </tr>\n",
       "    <tr>\n",
       "      <th>18</th>\n",
       "      <td>Virginia</td>\n",
       "      <td>Decline</td>\n",
       "      <td>1.00</td>\n",
       "    </tr>\n",
       "  </tbody>\n",
       "</table>\n",
       "</div>"
      ],
      "text/plain": [
       "          State  Decision  Percentage\n",
       "0       Alabama  Waitlist        1.00\n",
       "1    California     Admit        0.75\n",
       "2    California  Waitlist        0.19\n",
       "3    California   Decline        0.06\n",
       "4      Colorado     Admit        0.50\n",
       "5      Colorado   Decline        0.30\n",
       "6      Colorado  Waitlist        0.20\n",
       "7       Florida   Decline        0.36\n",
       "8       Florida     Admit        0.33\n",
       "9       Florida  Waitlist        0.31\n",
       "10      Georgia  Waitlist        1.00\n",
       "11  Mississippi   Decline        1.00\n",
       "12     New York  Waitlist        1.00\n",
       "13       Oregon   Decline        1.00\n",
       "14         Utah  Waitlist        0.50\n",
       "15         Utah   Decline        0.33\n",
       "16         Utah     Admit        0.17\n",
       "17      Vermont  Waitlist        1.00\n",
       "18     Virginia   Decline        1.00"
      ]
     },
     "execution_count": 37,
     "metadata": {},
     "output_type": "execute_result"
    }
   ],
   "source": [
    "# percentage of people admitted in each state\n",
    "state_with_decision = pd.DataFrame(df.groupby('State')['Decision'].value_counts(normalize=True)).rename(columns={'Decision':'pct_admitted'}).reset_index().round(2)\n",
    "state_with_decision.rename(columns={\"pct_admitted\": \"Percentage\"}, inplace=True)\n",
    "state_with_decision"
   ]
  },
  {
   "cell_type": "code",
   "execution_count": 38,
   "metadata": {
    "colab": {
     "base_uri": "https://localhost:8080/",
     "height": 542
    },
    "id": "IkpdQmlhr21I",
    "outputId": "9ab82f13-81c2-48c5-8b70-d13850f0357e"
   },
   "outputs": [
    {
     "data": {
      "text/html": [
       "\n",
       "        <iframe\n",
       "            width=\"100%\"\n",
       "            height=\"525px\"\n",
       "            src=\"https://plotly.com/~AlphaA/120.embed\"\n",
       "            frameborder=\"0\"\n",
       "            allowfullscreen\n",
       "            \n",
       "        ></iframe>\n",
       "        "
      ],
      "text/plain": [
       "<IPython.lib.display.IFrame at 0x2c0a8ef7430>"
      ]
     },
     "execution_count": 38,
     "metadata": {},
     "output_type": "execute_result"
    }
   ],
   "source": [
    "fig_state = px.bar(state_with_decision, x='State', y='Percentage', color='Decision', barmode='group', text='Percentage', title=\"Percentage of Students Admitted, Declined or in Waitlist for Each State.\")\n",
    "fig_state.update_layout(title_font_family=\"Times New Roman\", title_font_size=24, legend_font_size=14, title_x=0.5)\n",
    "#fig_state.write_html(\"../plots/state.html\")\n",
    "py.iplot(fig_state)"
   ]
  },
  {
   "cell_type": "markdown",
   "metadata": {
    "id": "ZDTQT_fln8yd"
   },
   "source": [
    "From the plot above, we can visualize that california has the highest number of student acceptances while Mississipi has the lowest. It is worth mentioning that in some students from New York, Georgia, Vermont, Oregon and etc only have one student that applied to college therefore some students were either rejected or waitlisted.\n"
   ]
  },
  {
   "cell_type": "code",
   "execution_count": 39,
   "metadata": {
    "colab": {
     "base_uri": "https://localhost:8080/"
    },
    "id": "DFOISs4ToAIE",
    "outputId": "9a3acbfb-ebe0-4dcd-9c37-03af253c81f9"
   },
   "outputs": [
    {
     "data": {
      "text/plain": [
       "Index(['Decision', 'State', 'GPA', 'WorkExp', 'TestScore', 'WritingScore',\n",
       "       'Gender', 'VolunteerLevel'],\n",
       "      dtype='object')"
      ]
     },
     "execution_count": 39,
     "metadata": {},
     "output_type": "execute_result"
    }
   ],
   "source": [
    "df.columns"
   ]
  },
  {
   "cell_type": "code",
   "execution_count": 40,
   "metadata": {
    "colab": {
     "base_uri": "https://localhost:8080/",
     "height": 645
    },
    "id": "eDxPmLtdoFlx",
    "outputId": "939858a5-a7be-4aa7-8b5f-50cf8505985a"
   },
   "outputs": [
    {
     "data": {
      "text/html": [
       "<div>\n",
       "<style scoped>\n",
       "    .dataframe tbody tr th:only-of-type {\n",
       "        vertical-align: middle;\n",
       "    }\n",
       "\n",
       "    .dataframe tbody tr th {\n",
       "        vertical-align: top;\n",
       "    }\n",
       "\n",
       "    .dataframe thead th {\n",
       "        text-align: right;\n",
       "    }\n",
       "</style>\n",
       "<table border=\"1\" class=\"dataframe\">\n",
       "  <thead>\n",
       "    <tr style=\"text-align: right;\">\n",
       "      <th></th>\n",
       "      <th>State</th>\n",
       "      <th>Decision</th>\n",
       "      <th>Work Experience</th>\n",
       "    </tr>\n",
       "  </thead>\n",
       "  <tbody>\n",
       "    <tr>\n",
       "      <th>0</th>\n",
       "      <td>Alabama</td>\n",
       "      <td>Waitlist</td>\n",
       "      <td>1.20</td>\n",
       "    </tr>\n",
       "    <tr>\n",
       "      <th>1</th>\n",
       "      <td>California</td>\n",
       "      <td>Admit</td>\n",
       "      <td>2.86</td>\n",
       "    </tr>\n",
       "    <tr>\n",
       "      <th>2</th>\n",
       "      <td>California</td>\n",
       "      <td>Decline</td>\n",
       "      <td>0.80</td>\n",
       "    </tr>\n",
       "    <tr>\n",
       "      <th>3</th>\n",
       "      <td>California</td>\n",
       "      <td>Waitlist</td>\n",
       "      <td>1.87</td>\n",
       "    </tr>\n",
       "    <tr>\n",
       "      <th>4</th>\n",
       "      <td>Colorado</td>\n",
       "      <td>Admit</td>\n",
       "      <td>1.46</td>\n",
       "    </tr>\n",
       "    <tr>\n",
       "      <th>5</th>\n",
       "      <td>Colorado</td>\n",
       "      <td>Decline</td>\n",
       "      <td>2.18</td>\n",
       "    </tr>\n",
       "    <tr>\n",
       "      <th>6</th>\n",
       "      <td>Colorado</td>\n",
       "      <td>Waitlist</td>\n",
       "      <td>1.88</td>\n",
       "    </tr>\n",
       "    <tr>\n",
       "      <th>7</th>\n",
       "      <td>Florida</td>\n",
       "      <td>Admit</td>\n",
       "      <td>1.60</td>\n",
       "    </tr>\n",
       "    <tr>\n",
       "      <th>8</th>\n",
       "      <td>Florida</td>\n",
       "      <td>Decline</td>\n",
       "      <td>2.22</td>\n",
       "    </tr>\n",
       "    <tr>\n",
       "      <th>9</th>\n",
       "      <td>Florida</td>\n",
       "      <td>Waitlist</td>\n",
       "      <td>2.52</td>\n",
       "    </tr>\n",
       "    <tr>\n",
       "      <th>10</th>\n",
       "      <td>Georgia</td>\n",
       "      <td>Waitlist</td>\n",
       "      <td>3.21</td>\n",
       "    </tr>\n",
       "    <tr>\n",
       "      <th>11</th>\n",
       "      <td>Mississippi</td>\n",
       "      <td>Decline</td>\n",
       "      <td>6.20</td>\n",
       "    </tr>\n",
       "    <tr>\n",
       "      <th>12</th>\n",
       "      <td>New York</td>\n",
       "      <td>Waitlist</td>\n",
       "      <td>2.20</td>\n",
       "    </tr>\n",
       "    <tr>\n",
       "      <th>13</th>\n",
       "      <td>Oregon</td>\n",
       "      <td>Decline</td>\n",
       "      <td>0.90</td>\n",
       "    </tr>\n",
       "    <tr>\n",
       "      <th>14</th>\n",
       "      <td>Utah</td>\n",
       "      <td>Admit</td>\n",
       "      <td>1.20</td>\n",
       "    </tr>\n",
       "    <tr>\n",
       "      <th>15</th>\n",
       "      <td>Utah</td>\n",
       "      <td>Decline</td>\n",
       "      <td>1.10</td>\n",
       "    </tr>\n",
       "    <tr>\n",
       "      <th>16</th>\n",
       "      <td>Utah</td>\n",
       "      <td>Waitlist</td>\n",
       "      <td>1.37</td>\n",
       "    </tr>\n",
       "    <tr>\n",
       "      <th>17</th>\n",
       "      <td>Vermont</td>\n",
       "      <td>Waitlist</td>\n",
       "      <td>3.30</td>\n",
       "    </tr>\n",
       "    <tr>\n",
       "      <th>18</th>\n",
       "      <td>Virginia</td>\n",
       "      <td>Decline</td>\n",
       "      <td>2.38</td>\n",
       "    </tr>\n",
       "  </tbody>\n",
       "</table>\n",
       "</div>"
      ],
      "text/plain": [
       "          State  Decision  Work Experience\n",
       "0       Alabama  Waitlist             1.20\n",
       "1    California     Admit             2.86\n",
       "2    California   Decline             0.80\n",
       "3    California  Waitlist             1.87\n",
       "4      Colorado     Admit             1.46\n",
       "5      Colorado   Decline             2.18\n",
       "6      Colorado  Waitlist             1.88\n",
       "7       Florida     Admit             1.60\n",
       "8       Florida   Decline             2.22\n",
       "9       Florida  Waitlist             2.52\n",
       "10      Georgia  Waitlist             3.21\n",
       "11  Mississippi   Decline             6.20\n",
       "12     New York  Waitlist             2.20\n",
       "13       Oregon   Decline             0.90\n",
       "14         Utah     Admit             1.20\n",
       "15         Utah   Decline             1.10\n",
       "16         Utah  Waitlist             1.37\n",
       "17      Vermont  Waitlist             3.30\n",
       "18     Virginia   Decline             2.38"
      ]
     },
     "execution_count": 40,
     "metadata": {},
     "output_type": "execute_result"
    }
   ],
   "source": [
    "grp_state_decision =  df.groupby([\"State\", \"Decision\"])[\"WorkExp\"].mean().reset_index()\n",
    "grp_state_decision[\"WorkExp\"] = grp_state_decision[\"WorkExp\"].apply(lambda x: round(x,2))\n",
    "grp_state_decision.rename(columns={\"WorkExp\": \"Work Experience\"}, inplace=True)\n",
    "grp_state_decision"
   ]
  },
  {
   "cell_type": "code",
   "execution_count": 41,
   "metadata": {
    "colab": {
     "base_uri": "https://localhost:8080/",
     "height": 542
    },
    "id": "7CsYx7p4oJwK",
    "outputId": "d0c12de0-fdd0-40d9-ff6b-bdf143d225d6"
   },
   "outputs": [
    {
     "data": {
      "text/html": [
       "\n",
       "        <iframe\n",
       "            width=\"100%\"\n",
       "            height=\"525px\"\n",
       "            src=\"https://plotly.com/~AlphaA/122.embed\"\n",
       "            frameborder=\"0\"\n",
       "            allowfullscreen\n",
       "            \n",
       "        ></iframe>\n",
       "        "
      ],
      "text/plain": [
       "<IPython.lib.display.IFrame at 0x2c0a8efb5e0>"
      ]
     },
     "execution_count": 41,
     "metadata": {},
     "output_type": "execute_result"
    }
   ],
   "source": [
    "fig_workexp = px.bar(grp_state_decision, x='State', y='Work Experience', color='Decision', barmode='group', text='Work Experience', title='Student Work Experience by State and Admission Decision')\n",
    "fig_workexp.update_layout(title_font_family=\"Times New Roman\", title_font_size=24, legend_font_size=14,title_x=0.5)\n",
    "#fig_workexp.write_html(\"../plots/workexp.html\")\n",
    "py.iplot(fig_workexp)"
   ]
  },
  {
   "cell_type": "markdown",
   "metadata": {
    "id": "LsbQbzRgogrA"
   },
   "source": [
    "This plot shows how an applicant's work experience and state can influence their admission decision. As seen in the plot, some states such as California have more applicants than other states due to the lack of applicants from certain states. By analyzing the admitted students, we can observe that students from California with 2.86 years of work experience were accepted followed up by Florida whose students had 1.6 years of work expereince, colorado students who had 1.46 years of work experience, and finally Utah students with 1.2 years of worth of experience. \n",
    "For waitlisted students, applicants from Florida with 2.52 years of work experience are waitlisted followed up with students from California and Colorado with nearly 1.88 years of work experience and Utah with 1.37 years of experience.\n",
    "\n",
    "To conclude, We can't say that a person with more work experience has a higher chance of getting admitted. Multiple factors are taken before a student gets admitted. For example, a student from Mississippi who has 6.2 years of work experience was rejected but this could be the applicant not satisfying other criterias such as GPA/Test score."
   ]
  },
  {
   "cell_type": "code",
   "execution_count": 42,
   "metadata": {
    "colab": {
     "base_uri": "https://localhost:8080/"
    },
    "id": "J9H4LVOaoapx",
    "outputId": "1b126a67-c673-4e17-8281-55ff4ac21f2a"
   },
   "outputs": [
    {
     "data": {
      "text/plain": [
       "State\n",
       "Alabama        3.410000\n",
       "California     3.610654\n",
       "Colorado       3.493523\n",
       "Florida        3.565833\n",
       "Georgia        3.560000\n",
       "Mississippi    2.910000\n",
       "New York       3.550000\n",
       "Oregon         2.900000\n",
       "Utah           3.443333\n",
       "Vermont        3.530000\n",
       "Virginia       3.142500\n",
       "Name: GPA, dtype: float64"
      ]
     },
     "execution_count": 42,
     "metadata": {},
     "output_type": "execute_result"
    }
   ],
   "source": [
    "df.groupby(\"State\")[\"GPA\"].mean()"
   ]
  },
  {
   "cell_type": "code",
   "execution_count": 43,
   "metadata": {
    "colab": {
     "base_uri": "https://localhost:8080/"
    },
    "id": "269GkBwooaa3",
    "outputId": "ec8d7d5d-5e5d-4fe5-c9c7-a0a99015a85b"
   },
   "outputs": [
    {
     "data": {
      "text/plain": [
       "State\n",
       "Alabama        1.200000\n",
       "California     2.543750\n",
       "Colorado       1.760000\n",
       "Florida        2.105556\n",
       "Georgia        3.210227\n",
       "Mississippi    6.200000\n",
       "New York       2.200000\n",
       "Oregon         0.900000\n",
       "Utah           1.250000\n",
       "Vermont        3.300000\n",
       "Virginia       2.375000\n",
       "Name: WorkExp, dtype: float64"
      ]
     },
     "execution_count": 43,
     "metadata": {},
     "output_type": "execute_result"
    }
   ],
   "source": [
    "df.groupby(\"State\")[\"WorkExp\"].mean()"
   ]
  },
  {
   "cell_type": "markdown",
   "metadata": {
    "id": "pQrthWuUb1VV"
   },
   "source": [
    "### Gender Insights"
   ]
  },
  {
   "cell_type": "code",
   "execution_count": 44,
   "metadata": {
    "colab": {
     "base_uri": "https://localhost:8080/",
     "height": 424
    },
    "id": "TILADlJ5cNrJ",
    "outputId": "d6d3125d-6c4b-4980-f8c0-9fa1be0d38fd"
   },
   "outputs": [
    {
     "data": {
      "text/html": [
       "<div>\n",
       "<style scoped>\n",
       "    .dataframe tbody tr th:only-of-type {\n",
       "        vertical-align: middle;\n",
       "    }\n",
       "\n",
       "    .dataframe tbody tr th {\n",
       "        vertical-align: top;\n",
       "    }\n",
       "\n",
       "    .dataframe thead th {\n",
       "        text-align: right;\n",
       "    }\n",
       "</style>\n",
       "<table border=\"1\" class=\"dataframe\">\n",
       "  <thead>\n",
       "    <tr style=\"text-align: right;\">\n",
       "      <th></th>\n",
       "      <th>Decision</th>\n",
       "      <th>State</th>\n",
       "      <th>GPA</th>\n",
       "      <th>WorkExp</th>\n",
       "      <th>TestScore</th>\n",
       "      <th>WritingScore</th>\n",
       "      <th>Gender</th>\n",
       "      <th>VolunteerLevel</th>\n",
       "    </tr>\n",
       "  </thead>\n",
       "  <tbody>\n",
       "    <tr>\n",
       "      <th>0</th>\n",
       "      <td>Admit</td>\n",
       "      <td>California</td>\n",
       "      <td>3.90</td>\n",
       "      <td>6.7</td>\n",
       "      <td>962.0</td>\n",
       "      <td>100</td>\n",
       "      <td>1</td>\n",
       "      <td>0</td>\n",
       "    </tr>\n",
       "    <tr>\n",
       "      <th>1</th>\n",
       "      <td>Admit</td>\n",
       "      <td>Florida</td>\n",
       "      <td>3.80</td>\n",
       "      <td>1.4</td>\n",
       "      <td>969.0</td>\n",
       "      <td>97</td>\n",
       "      <td>1</td>\n",
       "      <td>4</td>\n",
       "    </tr>\n",
       "    <tr>\n",
       "      <th>2</th>\n",
       "      <td>Admit</td>\n",
       "      <td>California</td>\n",
       "      <td>3.80</td>\n",
       "      <td>2.3</td>\n",
       "      <td>970.0</td>\n",
       "      <td>98</td>\n",
       "      <td>0</td>\n",
       "      <td>5</td>\n",
       "    </tr>\n",
       "    <tr>\n",
       "      <th>3</th>\n",
       "      <td>Admit</td>\n",
       "      <td>Colorado</td>\n",
       "      <td>3.60</td>\n",
       "      <td>0.9</td>\n",
       "      <td>969.0</td>\n",
       "      <td>97</td>\n",
       "      <td>0</td>\n",
       "      <td>2</td>\n",
       "    </tr>\n",
       "    <tr>\n",
       "      <th>4</th>\n",
       "      <td>Admit</td>\n",
       "      <td>Colorado</td>\n",
       "      <td>3.92</td>\n",
       "      <td>1.2</td>\n",
       "      <td>969.0</td>\n",
       "      <td>95</td>\n",
       "      <td>1</td>\n",
       "      <td>3</td>\n",
       "    </tr>\n",
       "    <tr>\n",
       "      <th>...</th>\n",
       "      <td>...</td>\n",
       "      <td>...</td>\n",
       "      <td>...</td>\n",
       "      <td>...</td>\n",
       "      <td>...</td>\n",
       "      <td>...</td>\n",
       "      <td>...</td>\n",
       "      <td>...</td>\n",
       "    </tr>\n",
       "    <tr>\n",
       "      <th>83</th>\n",
       "      <td>Waitlist</td>\n",
       "      <td>Vermont</td>\n",
       "      <td>3.53</td>\n",
       "      <td>3.3</td>\n",
       "      <td>862.0</td>\n",
       "      <td>85</td>\n",
       "      <td>1</td>\n",
       "      <td>1</td>\n",
       "    </tr>\n",
       "    <tr>\n",
       "      <th>84</th>\n",
       "      <td>Waitlist</td>\n",
       "      <td>Florida</td>\n",
       "      <td>3.52</td>\n",
       "      <td>0.7</td>\n",
       "      <td>868.0</td>\n",
       "      <td>81</td>\n",
       "      <td>0</td>\n",
       "      <td>4</td>\n",
       "    </tr>\n",
       "    <tr>\n",
       "      <th>85</th>\n",
       "      <td>Waitlist</td>\n",
       "      <td>Florida</td>\n",
       "      <td>3.51</td>\n",
       "      <td>3.4</td>\n",
       "      <td>865.0</td>\n",
       "      <td>88</td>\n",
       "      <td>1</td>\n",
       "      <td>3</td>\n",
       "    </tr>\n",
       "    <tr>\n",
       "      <th>86</th>\n",
       "      <td>Waitlist</td>\n",
       "      <td>California</td>\n",
       "      <td>3.47</td>\n",
       "      <td>2.2</td>\n",
       "      <td>867.0</td>\n",
       "      <td>77</td>\n",
       "      <td>1</td>\n",
       "      <td>5</td>\n",
       "    </tr>\n",
       "    <tr>\n",
       "      <th>87</th>\n",
       "      <td>Waitlist</td>\n",
       "      <td>Florida</td>\n",
       "      <td>3.46</td>\n",
       "      <td>1.9</td>\n",
       "      <td>869.0</td>\n",
       "      <td>89</td>\n",
       "      <td>1</td>\n",
       "      <td>0</td>\n",
       "    </tr>\n",
       "  </tbody>\n",
       "</table>\n",
       "<p>88 rows × 8 columns</p>\n",
       "</div>"
      ],
      "text/plain": [
       "    Decision       State   GPA  WorkExp  TestScore  WritingScore Gender  \\\n",
       "0      Admit  California  3.90      6.7      962.0           100      1   \n",
       "1      Admit     Florida  3.80      1.4      969.0            97      1   \n",
       "2      Admit  California  3.80      2.3      970.0            98      0   \n",
       "3      Admit    Colorado  3.60      0.9      969.0            97      0   \n",
       "4      Admit    Colorado  3.92      1.2      969.0            95      1   \n",
       "..       ...         ...   ...      ...        ...           ...    ...   \n",
       "83  Waitlist     Vermont  3.53      3.3      862.0            85      1   \n",
       "84  Waitlist     Florida  3.52      0.7      868.0            81      0   \n",
       "85  Waitlist     Florida  3.51      3.4      865.0            88      1   \n",
       "86  Waitlist  California  3.47      2.2      867.0            77      1   \n",
       "87  Waitlist     Florida  3.46      1.9      869.0            89      1   \n",
       "\n",
       "    VolunteerLevel  \n",
       "0                0  \n",
       "1                4  \n",
       "2                5  \n",
       "3                2  \n",
       "4                3  \n",
       "..             ...  \n",
       "83               1  \n",
       "84               4  \n",
       "85               3  \n",
       "86               5  \n",
       "87               0  \n",
       "\n",
       "[88 rows x 8 columns]"
      ]
     },
     "execution_count": 44,
     "metadata": {},
     "output_type": "execute_result"
    }
   ],
   "source": [
    "def to_category(gender):\n",
    "    if gender == 0:\n",
    "        return '0'\n",
    "    elif gender == 1:\n",
    "        return 1\n",
    "df.Gender = df.Gender.apply(lambda x: to_category(x))\n",
    "\n",
    "df"
   ]
  },
  {
   "cell_type": "code",
   "execution_count": 45,
   "metadata": {
    "colab": {
     "base_uri": "https://localhost:8080/"
    },
    "id": "MBA3JcVgcbWX",
    "outputId": "4f1eeb3e-adb1-4791-efe1-6772d9a58b09"
   },
   "outputs": [
    {
     "data": {
      "text/plain": [
       "Decision  Gender\n",
       "Admit     1         20\n",
       "          0         15\n",
       "Decline   1         16\n",
       "          0         12\n",
       "Waitlist  1         14\n",
       "          0         11\n",
       "Name: Gender, dtype: int64"
      ]
     },
     "execution_count": 45,
     "metadata": {},
     "output_type": "execute_result"
    }
   ],
   "source": [
    "df_gender=df.groupby(['Decision'])['Gender'].value_counts()\n",
    "df_gender"
   ]
  },
  {
   "cell_type": "code",
   "execution_count": 46,
   "metadata": {
    "colab": {
     "base_uri": "https://localhost:8080/",
     "height": 238
    },
    "id": "cuLpFPWYdqHZ",
    "outputId": "fb1eacbf-d346-47c1-9ca0-91eba066e230"
   },
   "outputs": [
    {
     "data": {
      "text/html": [
       "<div>\n",
       "<style scoped>\n",
       "    .dataframe tbody tr th:only-of-type {\n",
       "        vertical-align: middle;\n",
       "    }\n",
       "\n",
       "    .dataframe tbody tr th {\n",
       "        vertical-align: top;\n",
       "    }\n",
       "\n",
       "    .dataframe thead th {\n",
       "        text-align: right;\n",
       "    }\n",
       "</style>\n",
       "<table border=\"1\" class=\"dataframe\">\n",
       "  <thead>\n",
       "    <tr style=\"text-align: right;\">\n",
       "      <th></th>\n",
       "      <th>Decision</th>\n",
       "      <th>Gender</th>\n",
       "      <th>Count</th>\n",
       "    </tr>\n",
       "  </thead>\n",
       "  <tbody>\n",
       "    <tr>\n",
       "      <th>0</th>\n",
       "      <td>Admit</td>\n",
       "      <td>1</td>\n",
       "      <td>20</td>\n",
       "    </tr>\n",
       "    <tr>\n",
       "      <th>1</th>\n",
       "      <td>Admit</td>\n",
       "      <td>0</td>\n",
       "      <td>15</td>\n",
       "    </tr>\n",
       "    <tr>\n",
       "      <th>2</th>\n",
       "      <td>Decline</td>\n",
       "      <td>1</td>\n",
       "      <td>16</td>\n",
       "    </tr>\n",
       "    <tr>\n",
       "      <th>3</th>\n",
       "      <td>Decline</td>\n",
       "      <td>0</td>\n",
       "      <td>12</td>\n",
       "    </tr>\n",
       "    <tr>\n",
       "      <th>4</th>\n",
       "      <td>Waitlist</td>\n",
       "      <td>1</td>\n",
       "      <td>14</td>\n",
       "    </tr>\n",
       "    <tr>\n",
       "      <th>5</th>\n",
       "      <td>Waitlist</td>\n",
       "      <td>0</td>\n",
       "      <td>11</td>\n",
       "    </tr>\n",
       "  </tbody>\n",
       "</table>\n",
       "</div>"
      ],
      "text/plain": [
       "   Decision Gender  Count\n",
       "0     Admit      1     20\n",
       "1     Admit      0     15\n",
       "2   Decline      1     16\n",
       "3   Decline      0     12\n",
       "4  Waitlist      1     14\n",
       "5  Waitlist      0     11"
      ]
     },
     "execution_count": 46,
     "metadata": {},
     "output_type": "execute_result"
    }
   ],
   "source": [
    "df_gender = df_gender.rename('Count').reset_index().sort_values(by=['Decision', 'Gender'])\n",
    "df_gender"
   ]
  },
  {
   "cell_type": "code",
   "execution_count": 47,
   "metadata": {
    "colab": {
     "base_uri": "https://localhost:8080/",
     "height": 542
    },
    "id": "GgKptpCdhGa5",
    "outputId": "8f41ca10-c958-4821-88aa-fc9044040c26"
   },
   "outputs": [
    {
     "data": {
      "text/html": [
       "\n",
       "        <iframe\n",
       "            width=\"100%\"\n",
       "            height=\"525px\"\n",
       "            src=\"https://plotly.com/~AlphaA/124.embed\"\n",
       "            frameborder=\"0\"\n",
       "            allowfullscreen\n",
       "            \n",
       "        ></iframe>\n",
       "        "
      ],
      "text/plain": [
       "<IPython.lib.display.IFrame at 0x2c0a85174c0>"
      ]
     },
     "execution_count": 47,
     "metadata": {},
     "output_type": "execute_result"
    }
   ],
   "source": [
    "fig_gender = px.bar(df_gender, x='Decision', y='Count', color='Gender', barmode='group', text='Count', title='Count of Students for Each Decision by Gender',\n",
    "                    color_discrete_map={\n",
    "                    1: 'lightblue',\n",
    "                    '0': 'pink'}\n",
    "                    )\n",
    "fig_gender.update_layout(title_font_family=\"Times New Roman\", title_font_size=24, legend_font_size=14,title_x=0.5)\n",
    "#fig_gender.write_html(\"../plots/fig_gender.html\")\n",
    "py.iplot(fig_gender)"
   ]
  },
  {
   "cell_type": "markdown",
   "metadata": {
    "id": "evwBFpBJjhnQ"
   },
   "source": [
    "From the above plot, we see that for every decision category, the number of males(i.e. considering code 1 as male and other as females) is higher. Therefore, we can conclude that overall the applicants pool contained a majority of male students. We can also see that gender- 1 is 33% more of the gender-0 in decision categories 'ADMIT' and 'DECLINE' which means that a gender of a person is not necessary influencing in decision."
   ]
  },
  {
   "cell_type": "code",
   "execution_count": 48,
   "metadata": {
    "colab": {
     "base_uri": "https://localhost:8080/"
    },
    "id": "eFzKGWsKhtnM",
    "outputId": "fe025ba0-1fee-433a-dc48-bf658c6f6c20"
   },
   "outputs": [
    {
     "data": {
      "text/plain": [
       "State        Gender\n",
       "Alabama      0          1\n",
       "California   1         10\n",
       "             0          6\n",
       "Colorado     1         11\n",
       "             0          9\n",
       "Florida      1         19\n",
       "             0         17\n",
       "Georgia      0          1\n",
       "Mississippi  1          1\n",
       "New York     1          1\n",
       "Oregon       1          1\n",
       "Utah         1          4\n",
       "             0          2\n",
       "Vermont      1          1\n",
       "Virginia     1          2\n",
       "             0          2\n",
       "Name: Gender, dtype: int64"
      ]
     },
     "execution_count": 48,
     "metadata": {},
     "output_type": "execute_result"
    }
   ],
   "source": [
    "df_state_gender=df.groupby(['State'])['Gender'].value_counts()\n",
    "df_state_gender"
   ]
  },
  {
   "cell_type": "code",
   "execution_count": 49,
   "metadata": {
    "colab": {
     "base_uri": "https://localhost:8080/",
     "height": 551
    },
    "id": "4KKm-QSTh4FA",
    "outputId": "2ee3b92a-5e07-490c-eedd-de0a95103e89"
   },
   "outputs": [
    {
     "data": {
      "text/html": [
       "<div>\n",
       "<style scoped>\n",
       "    .dataframe tbody tr th:only-of-type {\n",
       "        vertical-align: middle;\n",
       "    }\n",
       "\n",
       "    .dataframe tbody tr th {\n",
       "        vertical-align: top;\n",
       "    }\n",
       "\n",
       "    .dataframe thead th {\n",
       "        text-align: right;\n",
       "    }\n",
       "</style>\n",
       "<table border=\"1\" class=\"dataframe\">\n",
       "  <thead>\n",
       "    <tr style=\"text-align: right;\">\n",
       "      <th></th>\n",
       "      <th>State</th>\n",
       "      <th>Gender</th>\n",
       "      <th>Count</th>\n",
       "    </tr>\n",
       "  </thead>\n",
       "  <tbody>\n",
       "    <tr>\n",
       "      <th>1</th>\n",
       "      <td>California</td>\n",
       "      <td>1</td>\n",
       "      <td>10</td>\n",
       "    </tr>\n",
       "    <tr>\n",
       "      <th>3</th>\n",
       "      <td>Colorado</td>\n",
       "      <td>1</td>\n",
       "      <td>11</td>\n",
       "    </tr>\n",
       "    <tr>\n",
       "      <th>5</th>\n",
       "      <td>Florida</td>\n",
       "      <td>1</td>\n",
       "      <td>19</td>\n",
       "    </tr>\n",
       "    <tr>\n",
       "      <th>8</th>\n",
       "      <td>Mississippi</td>\n",
       "      <td>1</td>\n",
       "      <td>1</td>\n",
       "    </tr>\n",
       "    <tr>\n",
       "      <th>9</th>\n",
       "      <td>New York</td>\n",
       "      <td>1</td>\n",
       "      <td>1</td>\n",
       "    </tr>\n",
       "    <tr>\n",
       "      <th>10</th>\n",
       "      <td>Oregon</td>\n",
       "      <td>1</td>\n",
       "      <td>1</td>\n",
       "    </tr>\n",
       "    <tr>\n",
       "      <th>11</th>\n",
       "      <td>Utah</td>\n",
       "      <td>1</td>\n",
       "      <td>4</td>\n",
       "    </tr>\n",
       "    <tr>\n",
       "      <th>13</th>\n",
       "      <td>Vermont</td>\n",
       "      <td>1</td>\n",
       "      <td>1</td>\n",
       "    </tr>\n",
       "    <tr>\n",
       "      <th>14</th>\n",
       "      <td>Virginia</td>\n",
       "      <td>1</td>\n",
       "      <td>2</td>\n",
       "    </tr>\n",
       "    <tr>\n",
       "      <th>0</th>\n",
       "      <td>Alabama</td>\n",
       "      <td>0</td>\n",
       "      <td>1</td>\n",
       "    </tr>\n",
       "    <tr>\n",
       "      <th>2</th>\n",
       "      <td>California</td>\n",
       "      <td>0</td>\n",
       "      <td>6</td>\n",
       "    </tr>\n",
       "    <tr>\n",
       "      <th>4</th>\n",
       "      <td>Colorado</td>\n",
       "      <td>0</td>\n",
       "      <td>9</td>\n",
       "    </tr>\n",
       "    <tr>\n",
       "      <th>6</th>\n",
       "      <td>Florida</td>\n",
       "      <td>0</td>\n",
       "      <td>17</td>\n",
       "    </tr>\n",
       "    <tr>\n",
       "      <th>7</th>\n",
       "      <td>Georgia</td>\n",
       "      <td>0</td>\n",
       "      <td>1</td>\n",
       "    </tr>\n",
       "    <tr>\n",
       "      <th>12</th>\n",
       "      <td>Utah</td>\n",
       "      <td>0</td>\n",
       "      <td>2</td>\n",
       "    </tr>\n",
       "    <tr>\n",
       "      <th>15</th>\n",
       "      <td>Virginia</td>\n",
       "      <td>0</td>\n",
       "      <td>2</td>\n",
       "    </tr>\n",
       "  </tbody>\n",
       "</table>\n",
       "</div>"
      ],
      "text/plain": [
       "          State Gender  Count\n",
       "1    California      1     10\n",
       "3      Colorado      1     11\n",
       "5       Florida      1     19\n",
       "8   Mississippi      1      1\n",
       "9      New York      1      1\n",
       "10       Oregon      1      1\n",
       "11         Utah      1      4\n",
       "13      Vermont      1      1\n",
       "14     Virginia      1      2\n",
       "0       Alabama      0      1\n",
       "2    California      0      6\n",
       "4      Colorado      0      9\n",
       "6       Florida      0     17\n",
       "7       Georgia      0      1\n",
       "12         Utah      0      2\n",
       "15     Virginia      0      2"
      ]
     },
     "execution_count": 49,
     "metadata": {},
     "output_type": "execute_result"
    }
   ],
   "source": [
    "df_state_gender = df_state_gender.rename('Count').reset_index().sort_values(by=['Gender', 'State'])\n",
    "df_state_gender"
   ]
  },
  {
   "cell_type": "code",
   "execution_count": 50,
   "metadata": {
    "colab": {
     "base_uri": "https://localhost:8080/",
     "height": 542
    },
    "id": "iZrDI8RLiL6h",
    "outputId": "07888a89-eb63-4bbf-cee0-2dc9a6d43e34"
   },
   "outputs": [
    {
     "data": {
      "text/html": [
       "\n",
       "        <iframe\n",
       "            width=\"100%\"\n",
       "            height=\"525px\"\n",
       "            src=\"https://plotly.com/~AlphaA/126.embed\"\n",
       "            frameborder=\"0\"\n",
       "            allowfullscreen\n",
       "            \n",
       "        ></iframe>\n",
       "        "
      ],
      "text/plain": [
       "<IPython.lib.display.IFrame at 0x2c0a8f19dc0>"
      ]
     },
     "execution_count": 50,
     "metadata": {},
     "output_type": "execute_result"
    }
   ],
   "source": [
    "fig_state_gender = px.bar(df_state_gender, x='State', y='Count', color='Gender', barmode='group', text='Count', title='Count of Students for Each State by Gender',\n",
    "                          color_discrete_map={\n",
    "                    1: 'lightblue',\n",
    "                    '0': 'pink'})\n",
    "fig_state_gender.update_layout(title_font_family=\"Times New Roman\", title_font_size=24, legend_font_size=14,title_x=0.5)\n",
    "#fig_state_gender.write_html(\"../plots/fig_state_gender.html\")\n",
    "py.iplot(fig_state_gender)"
   ]
  },
  {
   "cell_type": "markdown",
   "metadata": {
    "id": "kWHHNeVilyaJ"
   },
   "source": [
    "We see the distribituion of gender among different states. Florida leads the count followed by Colorado and California. Most of the other states just had 1 applicant with the exception of Utah and Virginia "
   ]
  },
  {
   "cell_type": "code",
   "execution_count": 51,
   "metadata": {
    "id": "13oRxJxy-R8C"
   },
   "outputs": [],
   "source": [
    "# import matplotlib.pyplot as plt\n",
    "# import numpy as np\n",
    "\n",
    "# df_admits = df[df['Decision'].str.contains('Admit')]\n",
    "# df_admits\n",
    "# #create scatter plot\n",
    "# plt.scatter(df_admits.WorkExp,df_admits.GPA)\n",
    "\n",
    "# #add horizontal line at mean value of y\n",
    "# plt.axhline(y=np.nanmean(df_admits.GPA), color='red', linestyle='--', linewidth=3, label='Avg')\n",
    "# plt.xlabel(\"GPA\")\n",
    "# plt.ylabel(\"Work Experience\")\n",
    "# plt.title(\"GPA v/s Work Experience \")\n",
    "# plt.show()"
   ]
  },
  {
   "cell_type": "code",
   "execution_count": 52,
   "metadata": {
    "colab": {
     "base_uri": "https://localhost:8080/",
     "height": 542
    },
    "id": "3YVeepA0JCQl",
    "outputId": "f7a40617-7221-4d33-d561-7c5efc4be9f2"
   },
   "outputs": [
    {
     "data": {
      "text/html": [
       "\n",
       "        <iframe\n",
       "            width=\"100%\"\n",
       "            height=\"525px\"\n",
       "            src=\"https://plotly.com/~AlphaA/128.embed\"\n",
       "            frameborder=\"0\"\n",
       "            allowfullscreen\n",
       "            \n",
       "        ></iframe>\n",
       "        "
      ],
      "text/plain": [
       "<IPython.lib.display.IFrame at 0x2c0a8fc52b0>"
      ]
     },
     "execution_count": 52,
     "metadata": {},
     "output_type": "execute_result"
    }
   ],
   "source": [
    "df_decline = df[df['Decision'].str.contains('Decline')]\n",
    "df_decline\n",
    "scatter=px.scatter(data_frame = df_decline\n",
    "           ,x = 'GPA'\n",
    "           ,y = 'WorkExp',\n",
    "           title= 'GPA vs Work Experience for DECLINE'\n",
    "           ,opacity = 1,\n",
    "           trendline='ols'\n",
    "           )\n",
    "scatter.update_layout(title_font_family=\"Times New Roman\", title_font_size=24, legend_font_size=14,title_x=0.5)\n",
    "##scatter.write_html(\"../plots/scatter.html\")\n",
    "py.iplot(scatter)"
   ]
  },
  {
   "cell_type": "markdown",
   "metadata": {
    "id": "0TW39ocg_Ex5"
   },
   "source": [
    "# Correlation plot between GPA and Work experience for Declined Candidates"
   ]
  },
  {
   "cell_type": "markdown",
   "metadata": {
    "id": "REHzHeHjPZxB"
   },
   "source": [
    "The trend line shows that there is a slight negative correlation between Work experience and GPA of candidates that got declined. Therefore, the higher the GPA is, the lower is the work experience. To summarize, an applicant who has a higher gpa doesn’t necessarily have a higher chance of acceptance as multiple factors are considered before an applicant is accepted\n"
   ]
  },
  {
   "cell_type": "markdown",
   "metadata": {
    "id": "PJ2xMJDJMBCi"
   },
   "source": [
    "# SQUARED AREA PLOT"
   ]
  },
  {
   "cell_type": "code",
   "execution_count": 53,
   "metadata": {
    "colab": {
     "base_uri": "https://localhost:8080/"
    },
    "id": "Wy1RJPqiMud6",
    "outputId": "9abd9641-5d41-42f3-94c2-509666fe60ff"
   },
   "outputs": [
    {
     "data": {
      "text/plain": [
       "Admit       35\n",
       "Decline     28\n",
       "Waitlist    25\n",
       "Name: Decision, dtype: int64"
      ]
     },
     "execution_count": 53,
     "metadata": {},
     "output_type": "execute_result"
    }
   ],
   "source": [
    "df.Decision.value_counts()"
   ]
  },
  {
   "cell_type": "code",
   "execution_count": 54,
   "metadata": {
    "colab": {
     "base_uri": "https://localhost:8080/",
     "height": 323
    },
    "id": "jQi0ituXMFGP",
    "outputId": "ec900175-2017-4fdd-d170-f6b7192b2d2d"
   },
   "outputs": [
    {
     "data": {
      "image/png": "[encoded data removed]",
      "text/plain": [
       "<Waffle size 756x576 with 1 Axes>"
      ]
     },
     "metadata": {},
     "output_type": "display_data"
    }
   ],
   "source": [
    "data = {'Admit': 35, 'Decline': 28, 'Waitlist': 25}\n",
    "fig = plt.figure(\n",
    "    FigureClass=Waffle, \n",
    "    rows=5, \n",
    "    values=data, \n",
    "    colors=(\"#983D3D\", \"#232066\", \"#DCB732\"),\n",
    "    title={'label': 'Decision Percentage for College Applications', 'loc': 'left', 'fontsize':20},\n",
    "    labels=[\"{0} ({1}%)\".format(k, v) for k, v in data.items()],\n",
    "    legend={'loc': 'lower left', 'bbox_to_anchor': (0, -0.4), 'ncol': len(data), 'framealpha': 0, 'fontsize':16},\n",
    "    figsize=(10.5, 8)\n",
    ")\n",
    "fig.gca().set_facecolor('#EEEEEE')\n",
    "fig.set_facecolor('#EEEEEE')\n",
    "#plt.savefig(\"../plots/decision_percentage.png\")\n",
    "plt.show()"
   ]
  },
  {
   "cell_type": "markdown",
   "metadata": {
    "id": "ag9A4s8cS4QV"
   },
   "source": [
    "The above Square area plot describes the proportion of the acceptance, decline and waitlisted candidates. We can see that Admit rate was 35% where as the percentage for decline and waitlist was nearly the same."
   ]
  },
  {
   "cell_type": "markdown",
   "metadata": {
    "id": "apaAKFDjyWX9"
   },
   "source": [
    "# Conclusion"
   ]
  },
  {
   "cell_type": "markdown",
   "metadata": {
    "id": "IIyVOvbLyaUj"
   },
   "source": [
    "From the overall analysis, we can conclude that volunteer levels does not have much significance in application decisions. The spread for GPA for students who got declined is wide however, the test-score spread of students who got accepted is towards the higher end which means test score is given preference above GPA. There is a negative correlation between GPA and Work experience and so it is better to encourage students to gain more work experience along with focusing on maintaining GPA and thus the curriculum should maybe be adjusted. We see that mostly several states had just 1 student applying whereas the majority of students application came from Floride, Colorado and California. It is important to diversify the student body andpromote the university by visiting college fairs as well as using social media to advertise. Finally, we see that there is not much difference between the proportions of the students who got declined and the ones who got waitlisted, therefore, the university should consider on accepting more students and reducing their waitlist. "
   ]
  }
 ],
 "metadata": {
  "colab": {
   "provenance": []
  },
  "kernelspec": {
   "display_name": "Python 3 (ipykernel)",
   "language": "python",
   "name": "python3"
  },
  "language_info": {
   "codemirror_mode": {
    "name": "ipython",
    "version": 3
   },
   "file_extension": ".py",
   "mimetype": "text/x-python",
   "name": "python",
   "nbconvert_exporter": "python",
   "pygments_lexer": "ipython3",
   "version": "3.9.7"
  }
 },
 "nbformat": 4,
 "nbformat_minor": 1
}
